{
 "cells": [
  {
   "cell_type": "markdown",
   "metadata": {},
   "source": [
    "# Synthetic dataset generation using RAFT\n",
    "\n",
    "This recipe will walk you through using a big LLM such as [OpenAI GPT-4o](https://learn.microsoft.com/en-us/azure/ai-services/openai/concepts/models?tabs=python-secure#gpt-4o-and-gpt-4-turbo) or [Meta Llama 3.1 405B](https://aka.ms/c/model/Meta-Llama-3.1-405B-Instruct) deployed on Azure AI to generate a synthetic dataset using UC Berkeley's Gorilla project RAFT method (see [blog post](https://aka.ms/raft-blog))."
   ]
  },
  {
   "cell_type": "markdown",
   "metadata": {},
   "source": [
    "## Overview\n",
    "![](./doc/raft-process-gen.png)"
   ]
  },
  {
   "cell_type": "markdown",
   "metadata": {},
   "source": [
    "## What is RAFT?\n",
    "\n",
    "RAFT stands for Retrieval Augmented Fine Tuning. The general principle is to use a big LLM such as Llama 3.1 405B to analyse a set of documents and generate a dataset of questions and answers that users might want to ask about those documents. We can then use that QA dataset to fine tune a smaller model such as Llama 3.1 8B. The fine tune model will therefore be better at answering questions about those documents."
   ]
  },
  {
   "cell_type": "markdown",
   "metadata": {},
   "source": [
    "### Analogy: How to prepare a LLM for an Exam? 📝\n",
    "\n",
    "*Note: This description was copied from the [UC Berkeley RAFT blog post](https://aka.ms/raft-blog-ucb).*\n",
    "\n",
    "RAFT is a general recipe to finetune a pretrained LLM to your domain-specific RAG settings. This is a common scenario where you want your LLM to answer questions grounded on a set of documents, for e.g., private files in an enterprise. Such a setting is different from the general RAG where the LLM does not know which domain (of documents) it will be tested on. To better illustrate this setting, let's draw an analogy between deploying and using an LLM with the real-world setting of prepararing for an exam.\n",
    "\n",
    "![RAFT Open book principle](./doc/raft_openbook.png \"RAFT Open book principle\")\n",
    "\n",
    "#### Closed-Book Exam\n",
    "\n",
    "A closed book exam often refers to the scenario where the LLMs do not have access to any additional documents or references to answer the questions during the exam. For LLMs, this is equivalent to the scenario, for example, in which the LLM is used as a chatbot. In this scenario the LLM draws from the knowledge baked in during pre-training and supervised-finetuning to respond to the users' prompt.\n",
    "\n",
    "#### Open-Book Exam\n",
    "\n",
    "In contrast, we liken the open-book exam setting to the scenario in which the LLM can refer to external sources of information (e.g., a website or a book chapter). In such scenarios, typically, the LLM is paired with retriever which retrieves k documents (or specific segments of the document) which are appended to the users' prompt. It is only through these documents retrieved that the LLM gains access to new knowledge. As a result, we argue that the LLM's performance in these settings, where it is trained as a general-purpose LLM is largely dependent on the quality of the retriever and how accurately the retriever can identify the most relevant piece of information.\n",
    "\n",
    "#### RAFT\n",
    "\n",
    "RAFT focuses on a narrower but increasingly popular domain than the general open book exam, called the domain-specific open-book exam. In domain-specific open book exam, we know a priori the domain in which the LLM will be tested --- used for inference. The LLM can respond to the users' prompt using use any and all information from this specific domain, which it has been fine-tuned on. Examples of domain specific examples include enterprise documents, latest news, code repositories belonging to an organization, etc. In all these scenarios, the LLM will be used to respond to the questions, whose answers can be found within a collection of documents (a small practical domain). The retrieval technique itself has little to no-impact on the mechanism (though it may impact the accuracy). This paper mainly studies this, domain-specific open-book setting and how to adapt a pretrained LLM to this specific domain, including how to make it more robust to a varying number of retrieved documents and distractors."
   ]
  },
  {
   "cell_type": "markdown",
   "metadata": {},
   "source": [
    "### RAFT Process: from domain documents to Q/A/CoT dataset splits\n",
    "\n",
    "The process is the following. RAFT takes as input a set of documents, split them into chunks, and for each chunk generates a list of questions, Chain Of Thought answers with a selection of relevant and irrelevant context chunks.\n",
    "\n",
    "![RAFT](./doc/raft.png \"RAFT\")"
   ]
  },
  {
   "cell_type": "markdown",
   "metadata": {},
   "source": [
    "## Running time and cost\n",
    "\n",
    "The RAFT script usually takes a few minutes on the default sample document but can take days on bigger domains depending on the number and size of documents and the number of questions being generated for each chunk.\n",
    "\n",
    "The cost of running this RAFT script on the sample document should be a few dollars. But beware, running it on bigger domains can cost hundreds of dollars if not more. It is safe to run this notebook multiple times though as the costly part, running the `raft.py` script, will only be executed if the dataset doesn't exist yet."
   ]
  },
  {
   "cell_type": "markdown",
   "metadata": {},
   "source": [
    "## Pre-requisites\n",
    "\n",
    "Before running this notebook, let's make sure your environment is ready\n",
    "\n",
    "### 1. Deploy Meta Llama 3.1 405B Instruct as a serverless endpoint.\n",
    "\n",
    "This model will be used to generate the synthetic dataset.\n",
    "\n",
    "You can either use [Azure ML Studio](https://aka.ms/raft-llama-31-learn-deploy-405b) or [Azure AI Studio](https://aka.ms/raft-llama-31-learn-deploy-405b-ai-studio).\n",
    "\n",
    "**Note**: an Azure ML Workspace is the same as a Azure AI Hub, you will be able to go back and forth between the two transparently.\n",
    "\n",
    "### 2. Deploy OpenAI's `text-embedding-ada-002` as a serverless endpoint.\n",
    "\n",
    "This model will be used to create the chunk embeddings.\n",
    "\n",
    "You can follow the same procedure as for the Meta Llama model deployment\n",
    "\n",
    "### 3. Setup your environment variables\n",
    "\n",
    "Copy the `.env.sample` file to `.env` and update according to your Azure AI project configuration and deployed endpoints"
   ]
  },
  {
   "cell_type": "markdown",
   "metadata": {},
   "source": [
    "## Setup the RAFT repository\n",
    " \n",
    "This script will checkout a shallow and narrow clone of the UC Berkeley Gorilla RAFT repository locally so that this notebook can invoke the RAFT script and util functions. It can safely be run multiple times."
   ]
  },
  {
   "cell_type": "code",
   "execution_count": 4,
   "metadata": {},
   "outputs": [
    {
     "name": "stdout",
     "output_type": "stream",
     "text": [
      "Setup Gorilla RAFT in /workspaces/aitour26-ft-2/src/demo-raft/notebooks/.gorilla\n",
      "Your branch is up to date with 'origin/raft-distillation-recipe'.\n",
      "Already up to date.\n"
     ]
    }
   ],
   "source": [
    "! ./setup_raft.sh"
   ]
  },
  {
   "cell_type": "markdown",
   "metadata": {},
   "source": [
    "## Install requirements\n",
    "\n",
    "The requirements should have been automatically installed if you opened the project in Dev Container or Codespaces, but if not, uncomment the following cell to install the requirements"
   ]
  },
  {
   "cell_type": "code",
   "execution_count": 5,
   "metadata": {},
   "outputs": [],
   "source": [
    "#! pip install -r requirements.txt"
   ]
  },
  {
   "cell_type": "markdown",
   "metadata": {},
   "source": [
    "## Check instrastructure requirements\n",
    "\n",
    "The following integration tests check that the endpoints are accessible and working before executing the RAFT program"
   ]
  },
  {
   "cell_type": "code",
   "execution_count": 2,
   "metadata": {},
   "outputs": [
    {
     "name": "stdout",
     "output_type": "stream",
     "text": [
      "\u001b[1m============================= test session starts ==============================\u001b[0m\n",
      "platform linux -- Python 3.12.8, pytest-8.1.2, pluggy-1.6.0\n",
      "rootdir: /workspaces/aitour26-ft-2/src/demo-raft/notebooks/infra/tests\n",
      "configfile: ../../pyproject.toml\n",
      "plugins: anyio-4.10.0, langsmith-0.4.17\n",
      "collected 4 items                                                              \u001b[0m\u001b[1m\n",
      "\n",
      "infra/tests/test_baseline.py \u001b[32m.\u001b[0m\u001b[33m                                           [ 25%]\u001b[0m\n",
      "infra/tests/test_embeddings.py \u001b[32m.\u001b[0m\u001b[33m                                         [ 50%]\u001b[0m\n",
      "infra/tests/test_scoring.py \u001b[32m.\u001b[0m\u001b[33m                                            [ 75%]\u001b[0m\n",
      "infra/tests/test_teacher.py \u001b[32m.\u001b[0m\u001b[33m                                            [100%]\u001b[0m\n",
      "\n",
      "\u001b[33m=============================== warnings summary ===============================\u001b[0m\n",
      "test_baseline.py: 3 warnings\n",
      "test_embeddings.py: 3 warnings\n",
      "test_scoring.py: 3 warnings\n",
      "test_teacher.py: 3 warnings\n",
      "  /home/vscode/.local/lib/python3.12/site-packages/msal/token_cache.py:182: DeprecationWarning: Use list(search(...)) instead to explicitly get a list.\n",
      "    warnings.warn(\n",
      "\n",
      "-- Docs: https://docs.pytest.org/en/stable/how-to/capture-warnings.html\n",
      "\u001b[33m======================== \u001b[32m4 passed\u001b[0m, \u001b[33m\u001b[1m12 warnings\u001b[0m\u001b[33m in 3.93s\u001b[0m\u001b[33m ========================\u001b[0m\n"
     ]
    }
   ],
   "source": [
    "! python -m pytest --rootdir=infra/tests/"
   ]
  },
  {
   "cell_type": "markdown",
   "metadata": {},
   "source": [
    "## Load infrastructure environnment variables"
   ]
  },
  {
   "cell_type": "code",
   "execution_count": 1,
   "metadata": {},
   "outputs": [
    {
     "name": "stdout",
     "output_type": "stream",
     "text": [
      "Using embedding model openai-text-embedding-ada-002\n",
      "Using teacher model openai-gpt-4-1\n"
     ]
    }
   ],
   "source": [
    "from os import getenv\n",
    "from dotenv import load_dotenv\n",
    "from dotenv_azd import load_azd_env\n",
    "from utils import get_env_state_file\n",
    "\n",
    "# Load AZD env\n",
    "load_azd_env(quiet=True)\n",
    "\n",
    "# User provided values\n",
    "load_dotenv(\".env\")\n",
    "\n",
    "# Variables passed by previous notebooks\n",
    "load_dotenv(get_env_state_file())\n",
    "\n",
    "EMBEDDING_DEPLOYMENT_NAME=getenv(\"EMBEDDING_DEPLOYMENT_NAME\")\n",
    "TEACHER_DEPLOYMENT_NAME=getenv(\"TEACHER_DEPLOYMENT_NAME\")\n",
    "\n",
    "print(f\"Using embedding model {EMBEDDING_DEPLOYMENT_NAME}\")\n",
    "print(f\"Using teacher model {TEACHER_DEPLOYMENT_NAME}\")"
   ]
  },
  {
   "cell_type": "markdown",
   "metadata": {},
   "source": [
    "## Select the documents"
   ]
  },
  {
   "cell_type": "markdown",
   "metadata": {},
   "source": [
    "#### Notebook parameters\n",
    "\n",
    "*Note: Parameters are typed as indicated for Papermill introspection*"
   ]
  },
  {
   "cell_type": "code",
   "execution_count": 2,
   "metadata": {
    "tags": [
     "parameters"
    ]
   },
   "outputs": [],
   "source": [
    "ds_name: str = \"zava-articles\"\n",
    "doc_path: str = \"sample_data/zava-articles\"\n",
    "format: str = \"chat\"\n",
    "finetuning_train_split : int = .8\n",
    "finetuning_valid_split : int = .1\n",
    "finetuning_threshold : int = 369 #65\n",
    "raft_questions: int = 2"
   ]
  },
  {
   "cell_type": "code",
   "execution_count": 3,
   "metadata": {},
   "outputs": [
    {
     "name": "stdout",
     "output_type": "stream",
     "text": [
      "Updating state file .env.state.gpt41 with DATASET_NAME=zava-articles\n",
      "Creating dataset: zava-articles\n"
     ]
    }
   ],
   "source": [
    "import pandas as pd\n",
    "from utils import update_state\n",
    "\n",
    "ds_path = f\"dataset/{ds_name}\"\n",
    "ds_output_file = f\"{ds_path}.jsonl\"\n",
    "update_state(\"DATASET_NAME\", ds_name)\n",
    "print(\"Creating dataset: \" + ds_name)"
   ]
  },
  {
   "cell_type": "code",
   "execution_count": 4,
   "metadata": {},
   "outputs": [],
   "source": [
    "! mkdir -p $ds_path"
   ]
  },
  {
   "cell_type": "markdown",
   "metadata": {},
   "source": [
    "### Overview of PDF"
   ]
  },
  {
   "cell_type": "code",
   "execution_count": 8,
   "metadata": {},
   "outputs": [],
   "source": [
    "from utils import get_pdf_image\n",
    "from pathlib import Path\n",
    "\n",
    "pdf_image = None\n",
    "if Path(doc_path).exists() and Path(doc_path).is_file() and Path(doc_path).suffix == \".pdf\":\n",
    "    pdf_image = get_pdf_image(doc_path)\n",
    "pdf_image"
   ]
  },
  {
   "cell_type": "markdown",
   "metadata": {},
   "source": [
    "### Generate Q/A/CoT fine-tuning dataset using RAFT from the domain specific documents"
   ]
  },
  {
   "cell_type": "markdown",
   "metadata": {},
   "source": [
    "The `--completion_model` and `--embedding_model` parameters refer to the names of the deployments of the models in Azure.\n",
    "\n",
    "**Note about `--qa-threshold`**: The Azure AI Finetuning service requires a minimum of 65 samples in the training split so in order to make this notebook run as quickly as possible with a demo dataset, we calculate the minimum number of samples we need to generate overall using the `finetuning_threshold` and the `finetuning_train_split`."
   ]
  },
  {
   "cell_type": "code",
   "execution_count": 5,
   "metadata": {},
   "outputs": [
    {
     "name": "stdout",
     "output_type": "stream",
     "text": [
      "QA threshold: 462\n"
     ]
    }
   ],
   "source": [
    "from math import ceil\n",
    "qa_threshold = ceil(finetuning_threshold / finetuning_train_split)\n",
    "print(f\"QA threshold: {qa_threshold}\")"
   ]
  },
  {
   "cell_type": "code",
   "execution_count": 6,
   "metadata": {},
   "outputs": [],
   "source": [
    "%%bash --out azure_env_name --err null\n",
    "azd env get-value AZURE_ENV_NAME || echo \"\""
   ]
  },
  {
   "cell_type": "code",
   "execution_count": 7,
   "metadata": {},
   "outputs": [
    {
     "data": {
      "text/plain": [
       "'.azure/cvi-brk443-2/.env'"
      ]
     },
     "execution_count": 7,
     "metadata": {},
     "output_type": "execute_result"
    }
   ],
   "source": [
    "azure_env_name = azure_env_name.strip()\n",
    "azure_env_file = f\".azure/{azure_env_name}/.env\" if azure_env_name else \"\"\n",
    "azure_env_file"
   ]
  },
  {
   "cell_type": "code",
   "execution_count": 38,
   "metadata": {},
   "outputs": [
    {
     "name": "stdout",
     "output_type": "stream",
     "text": [
      "env #PROJECT_ENDPOINT=https://cvi-brk443-manual-resource.services.ai.azure.com/api/projects/cvi-brk443-manual #ENDPOINT_URL=https://cvi-brk443-manual-resource.openai.azure.com/ #DEPLOYMENT_NAME=gpt-4.1-nano #AZURE_AI_SEARCH_ENDPOINT=https://cvi-brk443-search.search.windows.net #AZURE_AI_SEARCH_INDEX=zava-paint-articles-distractors-v3 BASELINE_AZURE_OPENAI_DEPLOYMENT=openai-gpt-4-1-nano BASELINE_AZURE_OPENAI_ENDPOINT=https://aoai-rogteyz-cvi-brk443-2.openai.azure.com/ BASELINE_DEPLOYMENT_PLATFORM=openai BASELINE_OPENAI_API_VERSION=2023-07-01-preview DATASET_NAME=zava-articles EMBEDDING_AZURE_OPENAI_DEPLOYMENT=openai-text-embedding-ada-002 EMBEDDING_AZURE_OPENAI_ENDPOINT=https://aoai-rogteyz-cvi-brk443-2.openai.azure.com/ EMBEDDING_DEPLOYMENT_PLATFORM=openai EMBEDDING_OPENAI_API_VERSION=2023-07-01-preview JUDGE_AZURE_OPENAI_DEPLOYMENT=openai-gpt-4-1 JUDGE_AZURE_OPENAI_ENDPOINT=https://aoai-rogteyz-cvi-brk443-2.openai.azure.com/ JUDGE_DEPLOYMENT_PLATFORM=openai JUDGE_OPENAI_API_VERSION=2023-07-01-preview TEACHER_AZURE_OPENAI_DEPLOYMENT=openai-gpt-4-1 TEACHER_AZURE_OPENAI_ENDPOINT=https://aoai-rogteyz-cvi-brk443-2.openai.azure.com/ TEACHER_DEPLOYMENT_PLATFORM=openai TEACHER_OPENAI_API_VERSION=2023-07-01-preview STUDENT_OPENAI_JOB_ID=ftjob-8972c351eabc479691d407c4d2216381 STUDENT_AZURE_OPENAI_ENDPOINT=https://aoai-rogteyz-cvi-brk443-2.openai.azure.com/ STUDENT_AZURE_OPENAI_DEPLOYMENT=ft-raft-gpt-4.1-nano-zava-articles python3 .gorilla/raft/raft.py --datapath  --output --distractors 3 --doctype pdf --chunk_size 512 --questions --workers 2 --system-prompt-key gpt --completion_model --embedding_model --qa-threshold --completion-env-prefix TEACHER\n"
     ]
    }
   ],
   "source": [
    "! touch .env\n",
    "! env $(cat .env .env.state $azure_env_file) python3 .gorilla/raft/raft.py \\\n",
    "    --datapath \"$doc_path\" \\\n",
    "    --output $ds_path \\\n",
    "    --distractors 3 \\\n",
    "    --doctype pdf \\\n",
    "    --chunk_size 512 \\\n",
    "    --questions $raft_questions \\\n",
    "    --workers 2 \\\n",
    "    --system-prompt-key gpt \\\n",
    "    --completion_model $TEACHER_DEPLOYMENT_NAME \\\n",
    "    --embedding_model $EMBEDDING_DEPLOYMENT_NAME \\\n",
    "    --qa-threshold $qa_threshold \\\n",
    "    --completion-env-prefix TEACHER"
   ]
  },
  {
   "cell_type": "markdown",
   "metadata": {},
   "source": [
    "*Note*: The bit of shell logic wrapping the python script call allows to skip the generation if the dataset has already been generated so it is safe to run this notebook multiple times."
   ]
  },
  {
   "cell_type": "markdown",
   "metadata": {},
   "source": [
    "## Prepare training, validation and evaluation splits"
   ]
  },
  {
   "cell_type": "markdown",
   "metadata": {},
   "source": [
    "Let's define variables for the different files we will need throughout this notebook"
   ]
  },
  {
   "cell_type": "code",
   "execution_count": 8,
   "metadata": {},
   "outputs": [
    {
     "name": "stdout",
     "output_type": "stream",
     "text": [
      "Reading arrow file dataset/zava-articles/data-00000-of-00001.arrow\n"
     ]
    }
   ],
   "source": [
    "raft_arrow_file = f\"{ds_path}/data-00000-of-00001.arrow\"\n",
    "dataset_path = f\"{ds_path}-files/{ds_name}-full.jsonl\"\n",
    "dataset_path_hf = f\"{ds_path}-files/{ds_name}-hf.full.jsonl\"\n",
    "\n",
    "dataset_path_hf_train = f\"{ds_path}-files/{ds_name}-hf.train.jsonl\"\n",
    "dataset_path_hf_valid = f\"{ds_path}-files/{ds_name}-hf.valid.jsonl\"\n",
    "dataset_path_hf_eval = f\"{ds_path}-files/{ds_name}-hf.eval.jsonl\"\n",
    "\n",
    "dataset_path_ft_train = f\"{ds_path}-files/{ds_name}-ft.train.jsonl\"\n",
    "dataset_path_ft_valid = f\"{ds_path}-files/{ds_name}-ft.valid.jsonl\"\n",
    "\n",
    "dataset_path_ft_train_v2 = f\"{ds_path}-files/{ds_name}-ft.train.v2.jsonl\"\n",
    "dataset_path_ft_valid_v2 = f\"{ds_path}-files/{ds_name}-ft.valid.v2.jsonl\"\n",
    "\n",
    "print(f\"Reading arrow file {raft_arrow_file}\")"
   ]
  },
  {
   "cell_type": "markdown",
   "metadata": {},
   "source": [
    "### Export dataset to JSONL"
   ]
  },
  {
   "cell_type": "markdown",
   "metadata": {},
   "source": [
    "Let's export the Apache Arrow format file to JSONL, easier to manipulate"
   ]
  },
  {
   "cell_type": "code",
   "execution_count": 16,
   "metadata": {},
   "outputs": [
    {
     "name": "stdout",
     "output_type": "stream",
     "text": [
      "Generating train split: 462 examples [00:00, 20012.48 examples/s]\n",
      "\u001b[32m2025-08-26 22:08:04\u001b[0m \u001b[1;30m INFO\u001b[0m [    ] \u001b[34mraft\u001b[0m Dataset has 462 rows\n",
      "\u001b[32m2025-08-26 22:08:04\u001b[0m \u001b[1;30m INFO\u001b[0m [    ] \u001b[34mraft\u001b[0m Converting arrow file dataset/zava-articles/data-00000-of-00001.arrow to jsonl hf file dataset/zava-articles-files/zava-articles-hf.full.jsonl\n",
      "Creating json from Arrow format: 100%|████████████| 1/1 [00:00<00:00, 24.78ba/s]\n"
     ]
    }
   ],
   "source": [
    "! python .gorilla/raft/format.py \\\n",
    "    --input $raft_arrow_file \\\n",
    "    --output $dataset_path_hf \\\n",
    "    --output-format hf"
   ]
  },
  {
   "cell_type": "code",
   "execution_count": 9,
   "metadata": {},
   "outputs": [
    {
     "name": "stdout",
     "output_type": "stream",
     "text": [
      "Dataset dataset/zava-articles-files/zava-articles-hf.full.jsonl has 462 records\n"
     ]
    },
    {
     "data": {
      "text/html": [
       "<div>\n",
       "<style scoped>\n",
       "    .dataframe tbody tr th:only-of-type {\n",
       "        vertical-align: middle;\n",
       "    }\n",
       "\n",
       "    .dataframe tbody tr th {\n",
       "        vertical-align: top;\n",
       "    }\n",
       "\n",
       "    .dataframe thead th {\n",
       "        text-align: right;\n",
       "    }\n",
       "</style>\n",
       "<table border=\"1\" class=\"dataframe\">\n",
       "  <thead>\n",
       "    <tr style=\"text-align: right;\">\n",
       "      <th></th>\n",
       "      <th>id</th>\n",
       "      <th>type</th>\n",
       "      <th>question</th>\n",
       "      <th>context</th>\n",
       "      <th>oracle_context</th>\n",
       "      <th>cot_answer</th>\n",
       "      <th>instruction</th>\n",
       "    </tr>\n",
       "  </thead>\n",
       "  <tbody>\n",
       "    <tr>\n",
       "      <th>0</th>\n",
       "      <td>83117ec4-edf7-4e04-bf00-c916975ddef9</td>\n",
       "      <td>general</td>\n",
       "      <td>What type of paint should be prioritized for o...</td>\n",
       "      <td>{'sentences': [['I have used a few different k...</td>\n",
       "      <td>High-VOC paints release harmful chemicals that...</td>\n",
       "      <td>Step-by-step reasoning:\\n\\n1. The question ask...</td>\n",
       "      <td>&lt;DOCUMENT&gt;I have used a few different kinds of...</td>\n",
       "    </tr>\n",
       "    <tr>\n",
       "      <th>1</th>\n",
       "      <td>cd5adb64-7e0a-455d-974f-6714b4eacdb2</td>\n",
       "      <td>general</td>\n",
       "      <td>Why should low-VOC or zero-VOC paints be chose...</td>\n",
       "      <td>{'sentences': [['High-VOC paints release harmf...</td>\n",
       "      <td>High-VOC paints release harmful chemicals that...</td>\n",
       "      <td>To answer the question, I first need to identi...</td>\n",
       "      <td>&lt;DOCUMENT&gt;High-VOC paints release harmful chem...</td>\n",
       "    </tr>\n",
       "    <tr>\n",
       "      <th>2</th>\n",
       "      <td>9381329e-50f8-4d54-b2cf-81a832b5df6b</td>\n",
       "      <td>general</td>\n",
       "      <td>What should you do with windows when working i...</td>\n",
       "      <td>{'sentences': [['Tell us in the section below....</td>\n",
       "      <td>If you're indoors, like when working near your...</td>\n",
       "      <td>Step-by-step reasoning:\\n\\n1. The question ask...</td>\n",
       "      <td>&lt;DOCUMENT&gt;Tell us in the section below.&lt;/DOCUM...</td>\n",
       "    </tr>\n",
       "    <tr>\n",
       "      <th>3</th>\n",
       "      <td>adcf736f-8b59-4d40-b704-b63b8d67143f</td>\n",
       "      <td>general</td>\n",
       "      <td>Is priming a step that can be skipped when pre...</td>\n",
       "      <td>{'sentences': [['That time she didn't leave wi...</td>\n",
       "      <td>If you're indoors, like when working near your...</td>\n",
       "      <td>To answer the question \"Is priming a step that...</td>\n",
       "      <td>&lt;DOCUMENT&gt;That time she didn't leave without i...</td>\n",
       "    </tr>\n",
       "    <tr>\n",
       "      <th>4</th>\n",
       "      <td>ddad0120-29c3-4700-8c3a-2c341d6f7055</td>\n",
       "      <td>general</td>\n",
       "      <td>Who is the current president of the United Sta...</td>\n",
       "      <td>{'sentences': [['2.', 'She never could have fo...</td>\n",
       "      <td>2.</td>\n",
       "      <td>Step-by-step reasoning:\\n\\n1. The question ask...</td>\n",
       "      <td>&lt;DOCUMENT&gt;2.&lt;/DOCUMENT&gt;\\n&lt;DOCUMENT&gt;She never c...</td>\n",
       "    </tr>\n",
       "  </tbody>\n",
       "</table>\n",
       "</div>"
      ],
      "text/plain": [
       "                                     id     type  \\\n",
       "0  83117ec4-edf7-4e04-bf00-c916975ddef9  general   \n",
       "1  cd5adb64-7e0a-455d-974f-6714b4eacdb2  general   \n",
       "2  9381329e-50f8-4d54-b2cf-81a832b5df6b  general   \n",
       "3  adcf736f-8b59-4d40-b704-b63b8d67143f  general   \n",
       "4  ddad0120-29c3-4700-8c3a-2c341d6f7055  general   \n",
       "\n",
       "                                            question  \\\n",
       "0  What type of paint should be prioritized for o...   \n",
       "1  Why should low-VOC or zero-VOC paints be chose...   \n",
       "2  What should you do with windows when working i...   \n",
       "3  Is priming a step that can be skipped when pre...   \n",
       "4  Who is the current president of the United Sta...   \n",
       "\n",
       "                                             context  \\\n",
       "0  {'sentences': [['I have used a few different k...   \n",
       "1  {'sentences': [['High-VOC paints release harmf...   \n",
       "2  {'sentences': [['Tell us in the section below....   \n",
       "3  {'sentences': [['That time she didn't leave wi...   \n",
       "4  {'sentences': [['2.', 'She never could have fo...   \n",
       "\n",
       "                                      oracle_context  \\\n",
       "0  High-VOC paints release harmful chemicals that...   \n",
       "1  High-VOC paints release harmful chemicals that...   \n",
       "2  If you're indoors, like when working near your...   \n",
       "3  If you're indoors, like when working near your...   \n",
       "4                                                 2.   \n",
       "\n",
       "                                          cot_answer  \\\n",
       "0  Step-by-step reasoning:\\n\\n1. The question ask...   \n",
       "1  To answer the question, I first need to identi...   \n",
       "2  Step-by-step reasoning:\\n\\n1. The question ask...   \n",
       "3  To answer the question \"Is priming a step that...   \n",
       "4  Step-by-step reasoning:\\n\\n1. The question ask...   \n",
       "\n",
       "                                         instruction  \n",
       "0  <DOCUMENT>I have used a few different kinds of...  \n",
       "1  <DOCUMENT>High-VOC paints release harmful chem...  \n",
       "2  <DOCUMENT>Tell us in the section below.</DOCUM...  \n",
       "3  <DOCUMENT>That time she didn't leave without i...  \n",
       "4  <DOCUMENT>2.</DOCUMENT>\\n<DOCUMENT>She never c...  "
      ]
     },
     "execution_count": 9,
     "metadata": {},
     "output_type": "execute_result"
    }
   ],
   "source": [
    "hf_full_df = pd.read_json(dataset_path_hf, lines=True)\n",
    "print(f\"Dataset {dataset_path_hf} has {len(hf_full_df)} records\")\n",
    "hf_full_df.head(5)"
   ]
  },
  {
   "cell_type": "markdown",
   "metadata": {},
   "source": [
    "## Let's look at a sample"
   ]
  },
  {
   "cell_type": "code",
   "execution_count": 10,
   "metadata": {},
   "outputs": [
    {
     "name": "stdout",
     "output_type": "stream",
     "text": [
      "Showing sample of dataset/zava-articles-files/zava-articles-hf.full.jsonl\n"
     ]
    },
    {
     "data": {
      "text/markdown": [
       "\n",
       "## Oracle Context\n",
       "If you're indoors, like when working near your beloved Linda Sleigh Solid Wood Bed \n",
       "Espresso, ensure windows are open to let particles escape. 1.3 Applying Primer\n",
       "Priming is a step you should never skip.\n",
       "\n",
       "## Instructions\n",
       "`<DOCUMENT>`Tell us in the section below.`</DOCUMENT>`\n",
       "`<DOCUMENT>`Allow to dry completely before applying a topcoat. Ideas For Painting Garden Furniture\n",
       "Looking for inspiration for your outdoor space? Here are some popular colour ideas and themes for painting your garden furniture:\n",
       "- Gentle colour: mellow tones (e.g. light blues and pinks) can brighten a space without being overpowering. - Creative furniture: upcycle items and paint planters, benches and tables for a coordinated look. - Go full colour: pick a bold RAL/paint shade for a striking focal point in the garden. Frequently Asked Questions\n",
       "Q. How do you repaint garden furniture? A. Remove peeling paint, prepare the surface, and use a paint or stain suitable for exterior use. Many recommended products are suitable for coating over \n",
       "previously painted surfaces.`</DOCUMENT>`\n",
       "`<DOCUMENT>`She never could have found a set that she liked better if she were trying to buy new! What a great investment that table was for only $69! I found the placemats and florals at HomeGoods. The placemats were too big, but because they were plastic, we were able to make them fit by cutting a \n",
       "couple of inches off of each one. The pedestal base on this table was what sold me!`</DOCUMENT>`\n",
       "`<DOCUMENT>`If you're indoors, like when working near your beloved Linda Sleigh Solid Wood Bed \n",
       "Espresso, ensure windows are open to let particles escape. 1.3 Applying Primer\n",
       "Priming is a step you should never skip.`</DOCUMENT>`\n",
       "What should you do with windows when working indoors near the Linda Sleigh Solid Wood Bed?  \n",
       "\n",
       "## Question\n",
       "What should you do with windows when working indoors near the Linda Sleigh Solid Wood Bed?  \n",
       "\n",
       "## CoT Answer\n",
       "Step-by-step reasoning:\n",
       "\n",
       "1. The question asks what should be done with windows when working indoors near the Linda Sleigh Solid Wood Bed.\n",
       "2. I need to look for any instructions or recommendations in the context about windows in this situation.\n",
       "3. In the context, I find the following relevant sentence: `##begin_quote##`If you're indoors, like when working near your beloved Linda Sleigh Solid Wood Bed Espresso, ensure windows are open to let particles escape.`##end_quote##`\n",
       "4. This sentence directly addresses the situation described in the question and provides a clear action to take regarding windows.\n",
       "5. Therefore, the answer should be based on this instruction.\n",
       "\n",
       "`<ANSWER>`: Ensure windows are open to let particles escape.\n"
      ],
      "text/plain": [
       "<IPython.core.display.Markdown object>"
      ]
     },
     "metadata": {},
     "output_type": "display_data"
    }
   ],
   "source": [
    "from IPython.display import display, Markdown\n",
    "from random import randint\n",
    "\n",
    "sample_idx = 2#randint(0, len(hf_full_df) - 1)\n",
    "sample = hf_full_df.iloc[sample_idx]\n",
    "instruction_md = sample.instruction.replace(\"<DOCUMENT>\", \"`<DOCUMENT>`\").replace(\"</DOCUMENT>\", \"`</DOCUMENT>`\")\n",
    "oracle_context_md = sample.oracle_context.replace(\"<DOCUMENT>\", \"`<DOCUMENT>`\").replace(\"</DOCUMENT>\", \"`</DOCUMENT>`\")\n",
    "sample_answer_md = sample.cot_answer.replace(\"<ANSWER>\", \"`<ANSWER>`\").replace(\"##begin_quote##\", \"`##begin_quote##`\").replace(\"##end_quote##\", \"`##end_quote##`\")\n",
    "print(f\"Showing sample of {dataset_path_hf}\")\n",
    "display(Markdown(f\"\"\"\n",
    "## Oracle Context\n",
    "{oracle_context_md}\n",
    "\n",
    "## Instructions\n",
    "{instruction_md}\n",
    "\n",
    "## Question\n",
    "{sample.question}\n",
    "\n",
    "## CoT Answer\n",
    "{sample_answer_md}\n",
    "\"\"\"))"
   ]
  },
  {
   "cell_type": "markdown",
   "metadata": {},
   "source": [
    "### Split the dataset into train / validation / evaluation\n",
    "\n",
    "In machine learning, splitting a dataset into training, validation, and test sets is a fundamental step to ensure that your model is trained effectively, evaluated properly, and generalizes well to new data. Here’s a brief explanation of each split:\n",
    "\n",
    "- **Training Split**: The training set (80% of the data) is used to train the model. It helps the model learn patterns and relationships by adjusting its internal parameters based on input-output pairs.\n",
    "\n",
    "- **Validation Split**: The validation set (10%) is used during training to monitor the model’s performance and guide convergence. It helps fine-tune hyperparameters and ensures the model doesn’t overfit by providing feedback on unseen data during training.\n",
    "\n",
    "- **Evaluation Split (sometimes also called test split)**: The test set (10%) is used only after training is complete to evaluate the model’s final performance. It provides an unbiased measure of how well the model generalizes to new, unseen data."
   ]
  },
  {
   "cell_type": "code",
   "execution_count": 11,
   "metadata": {},
   "outputs": [
    {
     "name": "stdout",
     "output_type": "stream",
     "text": [
      "Splitting dataset at [369, 415]\n"
     ]
    },
    {
     "name": "stderr",
     "output_type": "stream",
     "text": [
      "/home/vscode/.local/lib/python3.12/site-packages/numpy/_core/fromnumeric.py:57: FutureWarning: 'DataFrame.swapaxes' is deprecated and will be removed in a future version. Please use 'DataFrame.transpose' instead.\n",
      "  return bound(*args, **kwds)\n"
     ]
    }
   ],
   "source": [
    "# split dataset into 80%/10%/10%\n",
    "import numpy as np\n",
    "\n",
    "samples_count = len(hf_full_df)\n",
    "splits = [int(finetuning_train_split * samples_count), int((finetuning_train_split + finetuning_valid_split) * samples_count)]\n",
    "print(f\"Splitting dataset at {splits}\")\n",
    "hf_train_df, hf_valid_df, hf_eval_df = np.split(hf_full_df, splits)\n",
    "hf_train_df.to_json(dataset_path_hf_train, orient=\"records\", lines=True)\n",
    "hf_valid_df.to_json(dataset_path_hf_valid, orient=\"records\", lines=True)\n",
    "hf_eval_df.to_json(dataset_path_hf_eval, orient=\"records\", lines=True)"
   ]
  },
  {
   "cell_type": "markdown",
   "metadata": {},
   "source": [
    "### Export training and validation splits into JSONL format"
   ]
  },
  {
   "cell_type": "code",
   "execution_count": 12,
   "metadata": {},
   "outputs": [
    {
     "name": "stdout",
     "output_type": "stream",
     "text": [
      "Generating train split: 369 examples [00:00, 7498.54 examples/s]\n",
      "\u001b[32m2025-08-28 02:34:48\u001b[0m \u001b[1;30m INFO\u001b[0m [    ] \u001b[34mraft\u001b[0m Dataset has 369 rows\n",
      "\u001b[32m2025-08-28 02:34:48\u001b[0m \u001b[1;30m INFO\u001b[0m [    ] \u001b[34mraft\u001b[0m Converting jsonl file dataset/zava-articles-files/zava-articles-hf.train.jsonl to jsonl chat file dataset/zava-articles-files/zava-articles-ft.train.jsonl\n",
      "Filter out empty examples: 100%|████| 369/369 [00:00<00:00, 23568.89 examples/s]\n",
      "Rename fields and add  token: 100%|█| 369/369 [00:00<00:00, 19197.92 examples/s]\n",
      "Map: 100%|██████████████████████████| 369/369 [00:00<00:00, 18617.58 examples/s]\n",
      "Creating json from Arrow format: 100%|███████████| 1/1 [00:00<00:00, 107.89ba/s]\n"
     ]
    }
   ],
   "source": [
    "! python .gorilla/raft/format.py \\\n",
    "    --input $dataset_path_hf_train \\\n",
    "    --input-type jsonl \\\n",
    "    --output $dataset_path_ft_train \\\n",
    "    --output-format $format \\\n",
    "    --output-completion-prompt-column text\\\n",
    "    --output-completion-completion-column ground_truth"
   ]
  },
  {
   "cell_type": "code",
   "execution_count": 13,
   "metadata": {},
   "outputs": [
    {
     "name": "stdout",
     "output_type": "stream",
     "text": [
      "Generating train split: 46 examples [00:00, 2330.84 examples/s]\n",
      "\u001b[32m2025-08-28 02:34:51\u001b[0m \u001b[1;30m INFO\u001b[0m [    ] \u001b[34mraft\u001b[0m Dataset has 46 rows\n",
      "\u001b[32m2025-08-28 02:34:51\u001b[0m \u001b[1;30m INFO\u001b[0m [    ] \u001b[34mraft\u001b[0m Converting jsonl file dataset/zava-articles-files/zava-articles-hf.valid.jsonl to jsonl chat file dataset/zava-articles-files/zava-articles-ft.valid.jsonl\n",
      "Filter out empty examples: 100%|███████| 46/46 [00:00<00:00, 5410.94 examples/s]\n",
      "Rename fields and add  token: 100%|████| 46/46 [00:00<00:00, 4669.13 examples/s]\n",
      "Map: 100%|█████████████████████████████| 46/46 [00:00<00:00, 6417.79 examples/s]\n",
      "Creating json from Arrow format: 100%|███████████| 1/1 [00:00<00:00, 525.87ba/s]\n"
     ]
    }
   ],
   "source": [
    "! python .gorilla/raft/format.py \\\n",
    "    --input $dataset_path_hf_valid \\\n",
    "    --input-type jsonl \\\n",
    "    --output $dataset_path_ft_valid \\\n",
    "    --output-format $format \\\n",
    "    --output-completion-prompt-column text\\\n",
    "    --output-completion-completion-column ground_truth"
   ]
  },
  {
   "cell_type": "code",
   "execution_count": 14,
   "metadata": {},
   "outputs": [
    {
     "data": {
      "text/html": [
       "<div>\n",
       "<style scoped>\n",
       "    .dataframe tbody tr th:only-of-type {\n",
       "        vertical-align: middle;\n",
       "    }\n",
       "\n",
       "    .dataframe tbody tr th {\n",
       "        vertical-align: top;\n",
       "    }\n",
       "\n",
       "    .dataframe thead th {\n",
       "        text-align: right;\n",
       "    }\n",
       "</style>\n",
       "<table border=\"1\" class=\"dataframe\">\n",
       "  <thead>\n",
       "    <tr style=\"text-align: right;\">\n",
       "      <th></th>\n",
       "      <th>messages</th>\n",
       "    </tr>\n",
       "  </thead>\n",
       "  <tbody>\n",
       "    <tr>\n",
       "      <th>0</th>\n",
       "      <td>[{'content': 'The following is a conversation ...</td>\n",
       "    </tr>\n",
       "    <tr>\n",
       "      <th>1</th>\n",
       "      <td>[{'content': 'The following is a conversation ...</td>\n",
       "    </tr>\n",
       "  </tbody>\n",
       "</table>\n",
       "</div>"
      ],
      "text/plain": [
       "                                            messages\n",
       "0  [{'content': 'The following is a conversation ...\n",
       "1  [{'content': 'The following is a conversation ..."
      ]
     },
     "execution_count": 14,
     "metadata": {},
     "output_type": "execute_result"
    }
   ],
   "source": [
    "dataset_path_ft_valid_df = pd.read_json(dataset_path_ft_valid, lines=True)\n",
    "dataset_path_ft_valid_df.head(2)"
   ]
  },
  {
   "cell_type": "markdown",
   "metadata": {},
   "source": [
    "### Keep the evaluation split aside"
   ]
  },
  {
   "cell_type": "markdown",
   "metadata": {},
   "source": [
    "We don't need to format the evaluation dataset for now"
   ]
  },
  {
   "cell_type": "code",
   "execution_count": 15,
   "metadata": {},
   "outputs": [
    {
     "data": {
      "text/html": [
       "<div>\n",
       "<style scoped>\n",
       "    .dataframe tbody tr th:only-of-type {\n",
       "        vertical-align: middle;\n",
       "    }\n",
       "\n",
       "    .dataframe tbody tr th {\n",
       "        vertical-align: top;\n",
       "    }\n",
       "\n",
       "    .dataframe thead th {\n",
       "        text-align: right;\n",
       "    }\n",
       "</style>\n",
       "<table border=\"1\" class=\"dataframe\">\n",
       "  <thead>\n",
       "    <tr style=\"text-align: right;\">\n",
       "      <th></th>\n",
       "      <th>id</th>\n",
       "      <th>type</th>\n",
       "      <th>question</th>\n",
       "      <th>context</th>\n",
       "      <th>oracle_context</th>\n",
       "      <th>cot_answer</th>\n",
       "      <th>instruction</th>\n",
       "    </tr>\n",
       "  </thead>\n",
       "  <tbody>\n",
       "    <tr>\n",
       "      <th>0</th>\n",
       "      <td>eeb078a5-1503-46a0-971e-53ee533b9131</td>\n",
       "      <td>general</td>\n",
       "      <td>Are there furniture paints that are easier to ...</td>\n",
       "      <td>{'sentences': [['Easy DIY: How To Paint Outdoo...</td>\n",
       "      <td>There are many other furniture paints that are...</td>\n",
       "      <td>Step-by-step reasoning:\\n\\n1. The question ask...</td>\n",
       "      <td>&lt;DOCUMENT&gt;Easy DIY: How To Paint Outdoor Plast...</td>\n",
       "    </tr>\n",
       "    <tr>\n",
       "      <th>1</th>\n",
       "      <td>bac5929a-035d-4390-9177-e679345375ad</td>\n",
       "      <td>general</td>\n",
       "      <td>What technique helps create striking color com...</td>\n",
       "      <td>{'sentences': [['I was a bit surprised by this...</td>\n",
       "      <td>When color coordination seems challenging, emp...</td>\n",
       "      <td>To answer the question, I first need to identi...</td>\n",
       "      <td>&lt;DOCUMENT&gt;I was a bit surprised by this conclu...</td>\n",
       "    </tr>\n",
       "  </tbody>\n",
       "</table>\n",
       "</div>"
      ],
      "text/plain": [
       "                                     id     type  \\\n",
       "0  eeb078a5-1503-46a0-971e-53ee533b9131  general   \n",
       "1  bac5929a-035d-4390-9177-e679345375ad  general   \n",
       "\n",
       "                                            question  \\\n",
       "0  Are there furniture paints that are easier to ...   \n",
       "1  What technique helps create striking color com...   \n",
       "\n",
       "                                             context  \\\n",
       "0  {'sentences': [['Easy DIY: How To Paint Outdoo...   \n",
       "1  {'sentences': [['I was a bit surprised by this...   \n",
       "\n",
       "                                      oracle_context  \\\n",
       "0  There are many other furniture paints that are...   \n",
       "1  When color coordination seems challenging, emp...   \n",
       "\n",
       "                                          cot_answer  \\\n",
       "0  Step-by-step reasoning:\\n\\n1. The question ask...   \n",
       "1  To answer the question, I first need to identi...   \n",
       "\n",
       "                                         instruction  \n",
       "0  <DOCUMENT>Easy DIY: How To Paint Outdoor Plast...  \n",
       "1  <DOCUMENT>I was a bit surprised by this conclu...  "
      ]
     },
     "execution_count": 15,
     "metadata": {},
     "output_type": "execute_result"
    }
   ],
   "source": [
    "pd.read_json(dataset_path_hf_eval, lines=True).head(2)"
   ]
  },
  {
   "cell_type": "code",
   "execution_count": 17,
   "metadata": {},
   "outputs": [
    {
     "name": "stdout",
     "output_type": "stream",
     "text": [
      "First record of dataset/zava-articles-files/zava-articles-ft.train.jsonl\n"
     ]
    },
    {
     "data": {
      "text/markdown": [
       "# AI Conversation\n",
       "\n",
       "## `system`\n",
       "\n",
       "The following is a conversation with an AI assistant. The assistant is helpful, clever, friendly and gives concise and accurate answers.\n",
       "\n",
       "## `user`\n",
       "\n",
       "`<DOCUMENT>`I have used a few different kinds of sprayers at all different price points, and all have been easy to use and have given \n",
       "an impeccable finish. Step 6: Sand and Wipe Down Again\n",
       "KILZ 3® PREMIUM Primer is ready for paint in just one hour. After the primer has dried, lightly sand the surfaces once more to ensure a smooth finish.`</DOCUMENT>`\n",
       "`<DOCUMENT>`High-VOC paints release harmful chemicals that affect people, plants, animals, \n",
       "and aquatic life during application and curing. Prioritize low-VOC or zero-VOC formulations for outdoor furniture projects. These environmentally responsible options protect your family's health while \n",
       "minimizing ecological impact.`</DOCUMENT>`\n",
       "`<DOCUMENT>`Ensure adequate ventilation even in outdoor spaces, \n",
       "particularly when using oil-based products. Step 2: Thorough Furniture Cleaning \n",
       "Deep cleaning forms the foundation of professional results. For weathered outdoor furniture, use soap, water, and scrub brushes to remove accumulated \n",
       "dirt, grime, and surface contaminants. This process eliminates barriers that prevent proper paint adhesion.`</DOCUMENT>`\n",
       "`<DOCUMENT>`Remember that outdoor-specific paints should remain outdoors.`</DOCUMENT>`\n",
       "What type of paint should be prioritized for outdoor furniture projects?  \n",
       "\n",
       "## `assistant`\n",
       "\n",
       "Step-by-step reasoning:\n",
       "\n",
       "1. The question asks what type of paint should be prioritized for outdoor furniture projects.\n",
       "2. The context discusses the environmental and health impacts of different types of paint, specifically mentioning high-VOC paints and alternatives.\n",
       "3. To answer, I need to identify which paint type is recommended in the context.\n",
       "4. The context states: `##begin_quote##`High-VOC paints release harmful chemicals that affect people, plants, animals, and aquatic life during application and curing.`##end_quote##`\n",
       "5. This means high-VOC paints are harmful and should be avoided.\n",
       "6. The context further states: `##begin_quote##`Prioritize low-VOC or zero-VOC formulations for outdoor furniture projects. These environmentally responsible options protect your family's health while minimizing ecological impact.`##end_quote##`\n",
       "7. Therefore, the recommended paint types are low-VOC or zero-VOC formulations.\n",
       "\n",
       "`<ANSWER>`: Low-VOC or zero-VOC paint formulations should be prioritized for outdoor furniture projects.\n"
      ],
      "text/plain": [
       "<IPython.core.display.Markdown object>"
      ]
     },
     "metadata": {},
     "output_type": "display_data"
    }
   ],
   "source": [
    "from lib.conversation_to_markdown import conversation_to_markdown\n",
    "import json\n",
    "# read first line of JSONL file as dict\n",
    "# use json load\n",
    "with open(dataset_path_ft_train, \"r\") as f:\n",
    "    first_line = f.readline()\n",
    "    # use json load\n",
    "    first_record = json.loads(first_line)\n",
    "    print(\"First record of \" + dataset_path_ft_train)\n",
    "    display(Markdown(conversation_to_markdown(first_record)))"
   ]
  },
  {
   "cell_type": "markdown",
   "metadata": {},
   "source": [
    "# Reformat training dataset to more finetuning friendly format"
   ]
  },
  {
   "cell_type": "code",
   "execution_count": 12,
   "metadata": {},
   "outputs": [
    {
     "name": "stdout",
     "output_type": "stream",
     "text": [
      "Reformatted record:\n"
     ]
    },
    {
     "data": {
      "text/markdown": [
       "# AI Conversation\n",
       "\n",
       "## `system`\n",
       "\n",
       "The following is a conversation with an AI assistant. The assistant is helpful, clever, friendly and gives concise and accurate answers.\n",
       "\n",
       "## `user`\n",
       "\n",
       "Sources:\n",
       "  - [1] I have used a few different kinds of sprayers at all different price points, and all have been easy to use and have given \n",
       "an impeccable finish. Step 6: Sand and Wipe Down Again\n",
       "KILZ 3® PREMIUM Primer is ready for paint in just one hour. After the primer has dried, lightly sand the surfaces once more to ensure a smooth finish.\n",
       "  - [2] High-VOC paints release harmful chemicals that affect people, plants, animals, \n",
       "and aquatic life during application and curing. Prioritize low-VOC or zero-VOC formulations for outdoor furniture projects. These environmentally responsible options protect your family's health while \n",
       "minimizing ecological impact.\n",
       "  - [3] Ensure adequate ventilation even in outdoor spaces, \n",
       "particularly when using oil-based products. Step 2: Thorough Furniture Cleaning \n",
       "Deep cleaning forms the foundation of professional results. For weathered outdoor furniture, use soap, water, and scrub brushes to remove accumulated \n",
       "dirt, grime, and surface contaminants. This process eliminates barriers that prevent proper paint adhesion.\n",
       "  - [4] Remember that outdoor-specific paints should remain outdoors.\n",
       "\n",
       "What type of paint should be prioritized for outdoor furniture projects?\n",
       "\n",
       "## `assistant`\n",
       "\n",
       "Step-by-step reasoning:\n",
       "\n",
       "1. The question asks what type of paint should be prioritized for outdoor furniture projects.\n",
       "2. The context discusses the environmental and health impacts of different types of paint, specifically mentioning high-VOC paints and alternatives.\n",
       "3. To answer, I need to identify which paint type is recommended in the context.\n",
       "4. The context states: `High-VOC paints release harmful chemicals that affect people, plants, animals, and aquatic life during application and curing.` [2]\n",
       "5. This means high-VOC paints are harmful and should be avoided.\n",
       "6. The context further states: `Prioritize low-VOC or zero-VOC formulations for outdoor furniture projects. These environmentally responsible options protect your family's health while minimizing ecological impact.` [2]\n",
       "7. Therefore, the recommended paint types are low-VOC or zero-VOC formulations.\n",
       "\n",
       "`<ANSWER>`: Low-VOC or zero-VOC paint formulations should be prioritized for outdoor furniture projects.\n"
      ],
      "text/plain": [
       "<IPython.core.display.Markdown object>"
      ]
     },
     "metadata": {},
     "output_type": "display_data"
    }
   ],
   "source": [
    "from lib.reformat_conversation import reformat_ai_conversation\n",
    "reformatted = reformat_ai_conversation(first_record)\n",
    "print(\"Reformatted record:\")\n",
    "display(Markdown(conversation_to_markdown(reformatted)))\n"
   ]
  },
  {
   "cell_type": "code",
   "execution_count": null,
   "metadata": {},
   "outputs": [
    {
     "name": "stdout",
     "output_type": "stream",
     "text": [
      "Reformatting complete:\n",
      "  - Successfully reformatted: 369 conversations\n",
      "  - Errors encountered: 0\n",
      "  - Output written to: dataset/zava-articles-files/zava-articles-ft.train.v2.jsonl\n",
      "Reformatting complete:\n",
      "  - Successfully reformatted: 46 conversations\n",
      "  - Errors encountered: 0\n",
      "  - Output written to: dataset/zava-articles-files/zava-articles-ft.valid.v2.jsonl\n"
     ]
    }
   ],
   "source": [
    "from lib.reformat_jsonl import reformat_jsonl_file\n",
    "reformat_jsonl_file(dataset_path_ft_train, dataset_path_ft_train_v2)\n",
    "reformat_jsonl_file(dataset_path_ft_valid, dataset_path_ft_valid_v2)"
   ]
  },
  {
   "cell_type": "markdown",
   "metadata": {},
   "source": []
  },
  {
   "cell_type": "markdown",
   "metadata": {},
   "source": [
    "## Next step -> Fine-tuning\n",
    "\n",
    "- [./2_finetune_oai.ipynb](./2_finetune_oai.ipynb) if fine-tuning an **OpenAI** student model such as GPT-4o-mini\n"
   ]
  },
  {
   "cell_type": "markdown",
   "metadata": {},
   "source": []
  }
 ],
 "metadata": {
  "kernelspec": {
   "display_name": "Python 3",
   "language": "python",
   "name": "python3"
  },
  "language_info": {
   "codemirror_mode": {
    "name": "ipython",
    "version": 3
   },
   "file_extension": ".py",
   "mimetype": "text/x-python",
   "name": "python",
   "nbconvert_exporter": "python",
   "pygments_lexer": "ipython3",
   "version": "3.12.8"
  }
 },
 "nbformat": 4,
 "nbformat_minor": 4
}
