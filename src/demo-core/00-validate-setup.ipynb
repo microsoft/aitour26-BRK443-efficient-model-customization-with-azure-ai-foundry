{
 "cells": [
  {
   "cell_type": "markdown",
   "id": "543643eb",
   "metadata": {},
   "source": [
    "<div style=\"background: linear-gradient(135deg, #034694 0%, #1E8449 50%, #D4AC0D 100%); color: white; padding: 20px; border-radius: 10px; box-shadow: 0 4px 8px rgba(0,0,0,0.2);\">\n",
    "    <h1 style=\"color: #FFF; text-shadow: 1px 1px 3px rgba(0,0,0,0.5);\">🔍 | Step 0: Setup & Validate Infra</h1>\n",
    "    <p style=\"font-size: 16px; line-height: 1.6;\">\n",
    "    To run the demos you will need an Azure AI Foundry project, a default chat model, a number of \"candidate\" models for fine-tuning, an AI Search resource, and product data for creating the index. This repository contains scripts to streamline the setup, customization, and teardown of the infrastructure. In this notebook, we describe the steps to be taken to complete and validate your setup.\n",
    "    </p>\n",
    "</div>\n",
    "\n",
    "**Before You Begin: Setup Infrastructure**\n",
    "\n",
    "1. Change directory - `cd infra/`\n",
    "1. Run the setup script - `./1-setup` = this creates a `ForBeginners/` folder in the local infra/ subfolder\n",
    "1. Answer script prompts to customize setup = pick desired location, env name, and base model for fine tuning\n",
    "1. Run the add-models script - `./2-add-models` = this lets you add one or model models for evaluation (select student model)\n",
    "1. Verify that the infrastructure was provisioned = the resource group with that env name must exist\n",
    "\n",
    "**Next, Set Environment Variables**\n",
    "\n",
    "1. Run `./6-get-env.sh` = this creates a .env in the root folder with relevant environment variables defined\n",
    "1. Check the .env file for `#TODO` sections = use the hint to set those values manually. DELETE the \"#\" comments!!\n",
    "1. Run the add-product script - `python 2-add-product-index.py` = this populates the `add-products.csv` data (423 items) into index\n",
    "1. **IMPORTANT** - you can update the script to use the `add-products-50.csv` if you want just the 49 paint products\n",
    "1. Now, run THIS notebook = it will verify that all required .env variables are set!\n",
    "1. You are now ready to work with the notebooks!\n",
    "\n",
    "**After Your Session: Teardown Infrastructure**\n",
    "\n",
    "1. Change directory - `cd infra/`\n",
    "2. Run the setup script - `./3-teardown` = this will delete the resource group, purge resources, and delete the ForBeginners/ folder\n",
    "3. **Make sure you do NOT commit the ForBeginners/ folder back to GitHub by mistake** = it will have .env with secrets"
   ]
  },
  {
   "cell_type": "markdown",
   "id": "67769042",
   "metadata": {},
   "source": [
    "## Import Required Libraries"
   ]
  },
  {
   "cell_type": "code",
   "execution_count": null,
   "id": "8daae1cd",
   "metadata": {},
   "outputs": [],
   "source": [
    "import os\n",
    "from dotenv import load_dotenv\n",
    "\n",
    "# Load environment variables\n",
    "load_dotenv()\n",
    "\n",
    "# Tracking validation results\n",
    "missing_vars = []\n",
    "valid_vars = []"
   ]
  },
  {
   "cell_type": "markdown",
   "id": "ac4b33c3",
   "metadata": {},
   "source": [
    "## Validate Azure Environment Variables\n",
    "\n",
    "Check core Azure subscription and resource configuration."
   ]
  },
  {
   "cell_type": "code",
   "execution_count": null,
   "id": "c66c35b0",
   "metadata": {},
   "outputs": [],
   "source": [
    "azure_env_vars = [\n",
    "    \"AZURE_ENV_NAME\",\n",
    "    \"AZURE_LOCATION\",\n",
    "    \"AZURE_RESOURCE_GROUP\",\n",
    "    \"AZURE_SUBSCRIPTION_ID\",\n",
    "    \"AZURE_TENANT_ID\"\n",
    "]\n",
    "\n",
    "print(\"🔍 Checking Azure Environment Variables (from AZD)...\")\n",
    "for var in azure_env_vars:\n",
    "    value = os.getenv(var)\n",
    "    if value:\n",
    "        print(f\"✅ {var}: {value}\")\n",
    "        valid_vars.append(var)\n",
    "    else:\n",
    "        print(f\"❌ {var}: NOT SET\")\n",
    "        missing_vars.append(var)"
   ]
  },
  {
   "cell_type": "markdown",
   "id": "15d5ca28",
   "metadata": {},
   "source": [
    "## Validate Azure OpenAI Configuration\n",
    "\n",
    "Check Azure OpenAI service endpoint and deployment settings."
   ]
  },
  {
   "cell_type": "code",
   "execution_count": null,
   "id": "1e1fbfdf",
   "metadata": {},
   "outputs": [],
   "source": [
    "openai_vars = [\n",
    "    \"AZURE_OPENAI_API_KEY\",\n",
    "    \"AZURE_OPENAI_ENDPOINT\",\n",
    "    \"AZURE_OPENAI_API_VERSION\",\n",
    "    \"AZURE_OPENAI_DEPLOYMENT\"\n",
    "]\n",
    "\n",
    "print(\"\\n🔍 Checking Azure AI Foundry (Azure OpenAI Configuration)...\")\n",
    "for var in openai_vars:\n",
    "    value = os.getenv(var)\n",
    "    if value:\n",
    "        # Mask API key for security\n",
    "        display_value = value if \"KEY\" not in var else f\"{value[:8]}...{value[-4:]}\" if len(value) > 12 else \"***\"\n",
    "        print(f\"✅ {var}: {display_value}\")\n",
    "        valid_vars.append(var)\n",
    "    else:\n",
    "        print(f\"❌ {var}: NOT SET\")\n",
    "        missing_vars.append(var)"
   ]
  },
  {
   "cell_type": "markdown",
   "id": "2c5654f8",
   "metadata": {},
   "source": [
    "## Validate Azure AI Foundry Resources\n",
    "\n",
    "Check AI Foundry project and workspace configuration."
   ]
  },
  {
   "cell_type": "code",
   "execution_count": null,
   "id": "37596f23",
   "metadata": {},
   "outputs": [],
   "source": [
    "foundry_vars = [\n",
    "    \"AZURE_AI_FOUNDRY_NAME\",\n",
    "    \"AZURE_AI_PROJECT_NAME\",\n",
    "    \"AZURE_EXISTING_AIPROJECT_ENDPOINT\",\n",
    "    \"AZURE_EXISTING_AIPROJECT_RESOURCE_ID\"\n",
    "]\n",
    "\n",
    "print(\"\\n🔍 Checking Azure AI Foundry Resources (from Azure portal)...\")\n",
    "for var in foundry_vars:\n",
    "    value = os.getenv(var)\n",
    "    if value:\n",
    "        print(f\"✅ {var}: {value}\")\n",
    "        valid_vars.append(var)\n",
    "    else:\n",
    "        print(f\"❌ {var}: NOT SET\")\n",
    "        missing_vars.append(var)"
   ]
  },
  {
   "cell_type": "markdown",
   "id": "5a8bcabc",
   "metadata": {},
   "source": [
    "## Validate Azure AI Search Configuration\n",
    "\n",
    "Check Azure AI Search service and index settings."
   ]
  },
  {
   "cell_type": "code",
   "execution_count": null,
   "id": "3776a275",
   "metadata": {},
   "outputs": [],
   "source": [
    "search_vars = [\n",
    "    \"AZURE_SEARCH_ENDPOINT\",\n",
    "    \"AZURE_AISEARCH_ENDPOINT\",\n",
    "    \"AZURE_AI_SEARCH_ENDPOINT\",\n",
    "    \"AZURE_SEARCH_API_KEY\",\n",
    "    \"AZURE_SEARCH_INDEX_NAME\",\n",
    "    \"AZURE_AISEARCH_INDEX\",\n",
    "    \"AZURE_AI_SEARCH_INDEX_NAME\"\n",
    "]\n",
    "\n",
    "print(\"\\n🔍 Checking Azure AI Search (Required for add-product-index script)...\")\n",
    "for var in search_vars:\n",
    "    value = os.getenv(var)\n",
    "    if value:\n",
    "        # Mask API key for security\n",
    "        display_value = value if \"KEY\" not in var else f\"{value[:8]}...{value[-4:]}\" if len(value) > 12 else \"***\"\n",
    "        print(f\"✅ {var}: {display_value}\")\n",
    "        valid_vars.append(var)\n",
    "    else:\n",
    "        print(f\"❌ {var}: NOT SET\")\n",
    "        missing_vars.append(var)"
   ]
  },
  {
   "cell_type": "markdown",
   "id": "ac65da4b",
   "metadata": {},
   "source": [
    "## Validate Agent Configuration\n",
    "\n",
    "Check agent deployment and model settings."
   ]
  },
  {
   "cell_type": "code",
   "execution_count": null,
   "id": "af538ae0",
   "metadata": {},
   "outputs": [],
   "source": [
    "agent_vars = [\n",
    "    \"AZURE_AI_AGENT_DEPLOYMENT_NAME\",\n",
    "    \"AZURE_AI_AGENT_MODEL_NAME\",\n",
    "    \"AZURE_AI_AGENT_MODEL_VERSION\",\n",
    "    \"AZURE_AI_AGENT_DEPLOYMENT_CAPACITY\",\n",
    "    \"AZURE_AI_AGENT_NAME\"\n",
    "]\n",
    "\n",
    "print(\"\\n🔍 Checking Agent Configuration...\")\n",
    "for var in agent_vars:\n",
    "    value = os.getenv(var)\n",
    "    if value:\n",
    "        print(f\"✅ {var}: {value}\")\n",
    "        valid_vars.append(var)\n",
    "    else:\n",
    "        print(f\"❌ {var}: NOT SET\")\n",
    "        missing_vars.append(var)"
   ]
  },
  {
   "cell_type": "markdown",
   "id": "4a671b66",
   "metadata": {},
   "source": [
    "## Validate Embedding Model Configuration\n",
    "\n",
    "Check text embedding deployment and model settings."
   ]
  },
  {
   "cell_type": "code",
   "execution_count": null,
   "id": "354a0eb5",
   "metadata": {},
   "outputs": [],
   "source": [
    "embed_vars = [\n",
    "    \"AZURE_AI_EMBED_DEPLOYMENT_NAME\",\n",
    "    \"AZURE_AI_EMBED_MODEL_NAME\",\n",
    "    \"AZURE_AI_EMBED_MODEL_VERSION\",\n",
    "    \"AZURE_AI_EMBED_DEPLOYMENT_CAPACITY\",\n",
    "    \"AZURE_AI_EMBED_DEPLOYMENT_SKU\",\n",
    "    \"AZURE_AI_EMBED_DIMENSIONS\",\n",
    "    \"AZURE_AI_EMBED_MODEL_FORMAT\"\n",
    "]\n",
    "\n",
    "print(\"\\n🔍 Checking Embedding Model Configuration...\")\n",
    "for var in embed_vars:\n",
    "    value = os.getenv(var)\n",
    "    if value:\n",
    "        print(f\"✅ {var}: {value}\")\n",
    "        valid_vars.append(var)\n",
    "    else:\n",
    "        print(f\"❌ {var}: NOT SET\")\n",
    "        missing_vars.append(var)"
   ]
  },
  {
   "cell_type": "markdown",
   "id": "85ea1358",
   "metadata": {},
   "source": [
    "## Validate Container Apps & Registry\n",
    "\n",
    "Check Azure Container Apps environment and registry configuration."
   ]
  },
  {
   "cell_type": "code",
   "execution_count": null,
   "id": "fa6922a8",
   "metadata": {},
   "outputs": [],
   "source": [
    "container_vars = [\n",
    "    \"AZURE_CONTAINER_ENVIRONMENT_NAME\",\n",
    "    \"AZURE_CONTAINER_REGISTRY_ENDPOINT\",\n",
    "    \"SERVICE_API_NAME\",\n",
    "    \"SERVICE_API_URI\",\n",
    "    \"SERVICE_API_ENDPOINTS\",\n",
    "    \"SERVICE_API_IDENTITY_PRINCIPAL_ID\",\n",
    "    \"SERVICE_API_AND_FRONTEND_IMAGE_NAME\"\n",
    "]\n",
    "\n",
    "print(\"\\n🔍 Checking Container Apps & Registry...\")\n",
    "for var in container_vars:\n",
    "    value = os.getenv(var)\n",
    "    if value:\n",
    "        print(f\"✅ {var}: {value}\")\n",
    "        valid_vars.append(var)\n",
    "    else:\n",
    "        print(f\"❌ {var}: NOT SET\")\n",
    "        missing_vars.append(var)"
   ]
  },
  {
   "cell_type": "markdown",
   "id": "e66406fa",
   "metadata": {},
   "source": [
    "## Validate Monitoring & Tracing Configuration\n",
    "\n",
    "Check Application Insights and Azure Monitor tracing settings."
   ]
  },
  {
   "cell_type": "code",
   "execution_count": null,
   "id": "829d009a",
   "metadata": {},
   "outputs": [],
   "source": [
    "monitoring_vars = [\n",
    "    \"USE_APPLICATION_INSIGHTS\",\n",
    "    \"ENABLE_AZURE_MONITOR_TRACING\",\n",
    "    \"AZURE_TRACING_GEN_AI_CONTENT_RECORDING_ENABLED\",\n",
    "    \"APPLICATIONINSIGHTS_CONNECTION_STRING\",\n",
    "    \"APPLICATIONINSIGHTS_INSTRUMENTATION_KEY\"\n",
    "]\n",
    "\n",
    "print(\"\\n🔍 Checking Monitoring & Tracing Configuration...\")\n",
    "for var in monitoring_vars:\n",
    "    value = os.getenv(var)\n",
    "    if value:\n",
    "        # Mask connection strings and keys for security\n",
    "        if \"CONNECTION_STRING\" in var or \"KEY\" in var:\n",
    "            display_value = f\"{value[:20]}...{value[-10:]}\" if len(value) > 30 else \"***\"\n",
    "        else:\n",
    "            display_value = value\n",
    "        print(f\"✅ {var}: {display_value}\")\n",
    "        valid_vars.append(var)\n",
    "    else:\n",
    "        print(f\"❌ {var}: NOT SET\")\n",
    "        missing_vars.append(var)"
   ]
  },
  {
   "cell_type": "markdown",
   "id": "7ddec96b",
   "metadata": {},
   "source": [
    "## Validation Summary\n",
    "\n",
    "Review overall configuration status and next steps."
   ]
  },
  {
   "cell_type": "code",
   "execution_count": null,
   "id": "9f788dfe",
   "metadata": {},
   "outputs": [],
   "source": [
    "print(\"\\n\" + \"=\"*60)\n",
    "print(\"📊 VALIDATION SUMMARY\")\n",
    "print(\"=\"*60)\n",
    "print(f\"✅ Valid variables: {len(valid_vars)}\")\n",
    "print(f\"❌ Missing variables: {len(missing_vars)}\")\n",
    "\n",
    "if missing_vars:\n",
    "    print(\"\\n⚠️  Missing environment variables:\")\n",
    "    for var in missing_vars:\n",
    "        print(f\"   - {var}\")\n",
    "    print(\"\\n💡 Please configure missing variables in your .env file\")\n",
    "    print(\"   and reload the notebook.\")\n",
    "else:\n",
    "    print(\"\\n🎉 All environment variables are properly configured!\")\n",
    "    print(\"   You're ready to proceed with the lab exercises.\")"
   ]
  }
 ],
 "metadata": {
  "kernelspec": {
   "display_name": "Python 3",
   "language": "python",
   "name": "python3"
  },
  "language_info": {
   "codemirror_mode": {
    "name": "ipython",
    "version": 3
   },
   "file_extension": ".py",
   "mimetype": "text/x-python",
   "name": "python",
   "nbconvert_exporter": "python",
   "pygments_lexer": "ipython3",
   "version": "3.12.11"
  }
 },
 "nbformat": 4,
 "nbformat_minor": 5
}
