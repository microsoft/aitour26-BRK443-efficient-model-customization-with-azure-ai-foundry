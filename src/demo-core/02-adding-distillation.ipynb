{
 "cells": [
  {
   "cell_type": "markdown",
   "id": "44644603",
   "metadata": {},
   "source": [
    "<div style=\"background: linear-gradient(135deg, #034694 0%, #1E8449 50%, #D4AC0D 100%); color: white; padding: 20px; border-radius: 10px; box-shadow: 0 4px 8px rgba(0,0,0,0.2);\">\n",
    "    <h1 style=\"color: #FFF; text-shadow: 1px 1px 3px rgba(0,0,0,0.5);\">💬 | Step 3: Be More Cost-Effective With Distillation </h1>\n",
    "        <p style=\"font-size: 16px; line-height: 1.6;\">\n",
    "            We have the model customized to provide the right tone and style. But we are using a large (slow and expensive) model for a very narrow and focused task. Let's see how we can distill the knowledge to a smaller (faster and cheaper) model to get comparable accuracy with better efficiency - by trading in general-purpose LLMs for a narrower task-specific intelligence.\n",
    "        </p>\n",
    "</div>"
   ]
  },
  {
   "cell_type": "markdown",
   "id": "6cfd8483",
   "metadata": {},
   "source": [
    "---\n",
    "\n",
    "## 1. Check Environment Setup\n",
    "\n"
   ]
  },
  {
   "cell_type": "code",
   "execution_count": 1,
   "id": "56955b7f",
   "metadata": {},
   "outputs": [
    {
     "name": "stdout",
     "output_type": "stream",
     "text": [
      "Using Model: gpt-4o\n",
      "Using API Version: 2025-02-01-preview\n"
     ]
    }
   ],
   "source": [
    "# First, make sure required environment variables are set\n",
    "import os\n",
    "\n",
    "openai_key = os.getenv(\"AZURE_OPENAI_API_KEY\")\n",
    "openai_endpoint = os.getenv(\"AZURE_OPENAI_ENDPOINT\")\n",
    "model_name = \"gpt-4o\"\n",
    "api_version = os.getenv(\"AZURE_OPENAI_API_VERSION\", \"2025-02-01-preview\")\n",
    "\n",
    "if not openai_key or not openai_endpoint:\n",
    "    print(\"Error: Missing AZURE_OPENAI_KEY or AZURE_OPENAI_ENDPOINT environment variable.\")\n",
    "\n",
    "print(\"Using Model:\", model_name)\n",
    "print(\"Using API Version:\", api_version)"
   ]
  },
  {
   "cell_type": "code",
   "execution_count": 2,
   "id": "465864fc",
   "metadata": {},
   "outputs": [],
   "source": [
    "# Then create an Azure OpenAI Client instance\n",
    "from openai import AzureOpenAI\n",
    "\n",
    "client = AzureOpenAI(\n",
    "    azure_endpoint=os.environ.get(\"AZURE_OPENAI_ENDPOINT\"),\n",
    "    api_key=os.environ.get(\"AZURE_OPENAI_API_KEY\"),\n",
    "    api_version=\"2025-04-01-preview\",\n",
    ")"
   ]
  },
  {
   "cell_type": "code",
   "execution_count": 3,
   "id": "f99ea17f",
   "metadata": {},
   "outputs": [],
   "source": [
    "# And create a handy UUID we can use to track each run of this notebook\n",
    "import uuid\n",
    "UNIQUE_ENOUGH_KEY = str(uuid.uuid4()).split(\"-\")[0]"
   ]
  },
  {
   "cell_type": "markdown",
   "id": "b3ce633f",
   "metadata": {},
   "source": [
    "---\n",
    "## 2. Building Our Grader\n",
    "\n",
    "Distillation is about having a \"teacher\" model transfer its learning to a \"student\" model, thereby allowing it to perform a _narrower_ task with comparable accuracy. To understand if our distillation had the desired effect, we typically _grade_ the student model before and after distillation - and show that the grades on that task improved significantly.\n",
    "\n",
    "To do this, we need a _grader_ - some model that is capable of \"reasoning\" on a given response to see if it meets our desired criteria for \"tone & style\". By using the same grader throughout, we can make sure we get a consistent outcome in terms of evaluations. To create an effective grader we take 3 steps:\n",
    "\n",
    "1. We curate a set of **baseline** questions and answers that are the gold standard for responses. A \"good\" grader would rank these very highly when asked.\n",
    "2. We define a set of **grading** criteria that the grader will use to come up with a score on the responses. These must be clear and consistent guidelines.\n",
    "3. We run the grader on that gold standard to see how our **assessment** rubric holds up. If the results look good, we have a grader ready to go - else we refine and retry.\n",
    "\n",
    "By the end of this step, we will have an effective grader ready to use!\n"
   ]
  },
  {
   "cell_type": "markdown",
   "id": "5ec1f178",
   "metadata": {},
   "source": [
    "\n",
    "\n",
    "### 2.1 Curate Baseline Responses\n",
    "\n",
    "In our case, we can simply take a subset of the training data from the previous step since we know it is the kind of \"good\" responses we want to see. We store it in a new file (`distill_sft_baseline.json`) that we can then upload to our Azure AI Foundry project, for use in a later step. Let's review the data in the file and upload it."
   ]
  },
  {
   "cell_type": "code",
   "execution_count": 5,
   "id": "6c465496",
   "metadata": {},
   "outputs": [
    {
     "data": {
      "text/html": [
       "<div>\n",
       "<style scoped>\n",
       "    .dataframe tbody tr th:only-of-type {\n",
       "        vertical-align: middle;\n",
       "    }\n",
       "\n",
       "    .dataframe tbody tr th {\n",
       "        vertical-align: top;\n",
       "    }\n",
       "\n",
       "    .dataframe thead th {\n",
       "        text-align: right;\n",
       "    }\n",
       "</style>\n",
       "<table border=\"1\" class=\"dataframe\">\n",
       "  <thead>\n",
       "    <tr style=\"text-align: right;\">\n",
       "      <th></th>\n",
       "      <th>question</th>\n",
       "      <th>answer</th>\n",
       "    </tr>\n",
       "  </thead>\n",
       "  <tbody>\n",
       "    <tr>\n",
       "      <th>0</th>\n",
       "      <td>Is water-based polyurethane better than oil-based?</td>\n",
       "      <td>🤔 Both have benefits! Water-based at $43 dries faster, oil-based at $34 gives amber tone. Which matters most?</td>\n",
       "    </tr>\n",
       "    <tr>\n",
       "      <th>1</th>\n",
       "      <td>Can I get detail brushes for trim work?</td>\n",
       "      <td>🎨 Exactly! Artist Detail Brush Set at $13 provides precise control for trim. Angled options too?</td>\n",
       "    </tr>\n",
       "    <tr>\n",
       "      <th>2</th>\n",
       "      <td>What's the cheapest interior paint option?</td>\n",
       "      <td>💰 Good value! Premium Interior Latex Flat at $40 offers excellent coverage. Quantity calculator?</td>\n",
       "    </tr>\n",
       "    <tr>\n",
       "      <th>3</th>\n",
       "      <td>What's the best brush for latex paint?</td>\n",
       "      <td>🖌️ Excellent! Synthetic Brush Set at $16 is perfect for latex paints. Different sizes needed?</td>\n",
       "    </tr>\n",
       "    <tr>\n",
       "      <th>4</th>\n",
       "      <td>What paint should I use for my kitchen cabinets?</td>\n",
       "      <td>🍳 Excellent choice! Interior Semi-Gloss Paint at $47 is perfect for cabinets. Need primer too?</td>\n",
       "    </tr>\n",
       "  </tbody>\n",
       "</table>\n",
       "</div>"
      ],
      "text/plain": [
       "                                             question                                                                                                         answer\n",
       "0  Is water-based polyurethane better than oil-based?  🤔 Both have benefits! Water-based at $43 dries faster, oil-based at $34 gives amber tone. Which matters most?\n",
       "1             Can I get detail brushes for trim work?               🎨 Exactly! Artist Detail Brush Set at $13 provides precise control for trim. Angled options too?\n",
       "2          What's the cheapest interior paint option?               💰 Good value! Premium Interior Latex Flat at $40 offers excellent coverage. Quantity calculator?\n",
       "3              What's the best brush for latex paint?                  🖌️ Excellent! Synthetic Brush Set at $16 is perfect for latex paints. Different sizes needed?\n",
       "4    What paint should I use for my kitchen cabinets?                 🍳 Excellent choice! Interior Semi-Gloss Paint at $47 is perfect for cabinets. Need primer too?"
      ]
     },
     "execution_count": 5,
     "metadata": {},
     "output_type": "execute_result"
    }
   ],
   "source": [
    "import pandas as pd\n",
    "\n",
    "# Read the JSONL file into a DataFrame and print the first 5 rows in 2 columns\n",
    "baseline_jsonl_df = pd.read_json(\"data/demo/distill_sft_baseline.jsonl\", lines=True)\n",
    "# Display all columns and set display width to show full text in the output\n",
    "pd.set_option('display.max_colwidth', None)\n",
    "pd.set_option('display.width', 200)\n",
    "pd.DataFrame(\n",
    "    [\n",
    "        {\"question\": row[\"item\"][\"question\"], \"answer\": row[\"item\"][\"answer\"]}\n",
    "        for _, row in baseline_jsonl_df.head(5).iterrows()\n",
    "    ]\n",
    ")"
   ]
  },
  {
   "cell_type": "markdown",
   "id": "47c2e925",
   "metadata": {},
   "source": [
    "### 2.2 Upload Baseline Data To Cloud"
   ]
  },
  {
   "cell_type": "code",
   "execution_count": 7,
   "id": "20078f4e",
   "metadata": {},
   "outputs": [
    {
     "name": "stdout",
     "output_type": "stream",
     "text": [
      "Created eval file:\n",
      "{\n",
      "  \"id\": \"file-7278895a0407488a85706fe10330b4bb\",\n",
      "  \"bytes\": 3729,\n",
      "  \"created_at\": 1761797154,\n",
      "  \"filename\": \"distill_sft_baseline.jsonl\",\n",
      "  \"object\": \"file\",\n",
      "  \"purpose\": \"evals\",\n",
      "  \"status\": \"processed\"\n",
      "}\n"
     ]
    }
   ],
   "source": [
    "# Create a cloud-hosted file with baseline data for evaluations (purpose=\"evals\")\n",
    "# An \"evals\" file is a special type of file that can be used in evaluation jobs \n",
    "# - it has to be in JSONL format but its properties depend on how grader is setup\n",
    "grader_eval_file = None\n",
    "with open(\"data/demo/distill_sft_baseline.jsonl\", \"rb\") as f:\n",
    "    grader_eval_file = client.files.create(purpose=\"evals\", file=f)\n",
    "    grader_eval_file = client.files.wait_for_processing(grader_eval_file.id)\n",
    "\n",
    "print(f\"Created eval file:\\n{grader_eval_file.to_json(indent=2)}\")"
   ]
  },
  {
   "cell_type": "markdown",
   "id": "7132b0c4",
   "metadata": {},
   "source": [
    "### 2.3 Create a Helpfulness Evaluator\n",
    "\n",
    "The Grader is just like a custom evaluator that takes an input (\"question\", \"answer\") and scores it for the desired metric (\"Helpfulness\") using a set of custom criteria that we define. This is an example of AI-Assisted evaluation (or LLM as a judge) where we use an LLM to execute a task (\"grader this\") where we describe the parameters of the task in the prompt template we provide. Let's see that in action."
   ]
  },
  {
   "cell_type": "code",
   "execution_count": 8,
   "id": "39987c37",
   "metadata": {},
   "outputs": [],
   "source": [
    "# We'll use the most capable reasoning model as our grader.\n",
    "GRADER_MODEL = \"o3\""
   ]
  },
  {
   "cell_type": "code",
   "execution_count": 9,
   "id": "03eb2456",
   "metadata": {},
   "outputs": [],
   "source": [
    "# Next we create a custom Grader that will score the responses for \"Helpfulness\" on a scale of 0-10\n",
    "# using the custom rubric below - where 0 is \"not helpful at all\" and 10 is \"extremely helpful\".\n",
    "\n",
    "# We want it to grader our \"student\" responses later, based on the same criteria. So let's make sure we get our rubric right.\n",
    "# We want good answers to score high - and bad answers to be penalized heavily (get 0)\n",
    "\n",
    "GRADER_PROMPT = \"\"\"\n",
    "\n",
    "You are an expert in assessing polite and helpful customer service responses\n",
    "\n",
    "You'll be given a conversation in the form of a question and answer. \n",
    "\n",
    "## Scoring Criteria\n",
    "\n",
    "Judge the answer by using two metrics to compute a final score.\n",
    "\n",
    "### Metric 1: Is the answer polite?\n",
    "\n",
    "Give this a score in the range of 1 to 5 where:\n",
    "- 1 means the answer was rude, disrespectful or dismissive\n",
    "- 3 means the answer was neutral, neither polite nor rude\n",
    "- 5 means the answer had an emoiji followed by a greeting or an acknowledgement of the user question\n",
    "\n",
    "### Metric 2: Is the answer helpful?\n",
    "\n",
    "Give this a score in the range of 1 to 5 where:\n",
    "- 1 means the response did not end with an offer to help further\n",
    "- 3 means the response ended with a generic offer to help\n",
    "- 5 means the response ended with an offer to help that was clearly related to the user's question\n",
    "\n",
    "### Metric 3: Is the answer informative?\n",
    "Give this a score of 0 or 1 where:\n",
    "- 0 means the answer did not mention any specific product or product-related fact\n",
    "- 1 means the answer mentioned a specific product or solution\n",
    "\n",
    "### Final Score\n",
    "The final score you must decide should be based on a weighted blend of Metric 1 and\n",
    "Metric 2 using the formula: `(Metric 1 + Metric 2) * (Metric 3)`\n",
    "\n",
    "This means that if Metric 3 is zero, the final score must be zero.\n",
    "\n",
    "## Response Structure\n",
    "Your response must be in a JSON format that can be loaded by Python's json.loads()\n",
    "function. It must resemble the following:\n",
    "\n",
    "```\n",
    "{\n",
    "  \"steps\": [\n",
    "    { \n",
    "      \"description\": <one sentence describing your reasoning for Metric 1>\", \n",
    "      \"result\": <string representation of Metric 1's score> \n",
    "    },\n",
    "    { \n",
    "      \"description\": <one sentence describing your reasoning for Metric 2>\", \n",
    "      \"result\": <string representation of Metric 2's score> \n",
    "    }\n",
    "  ],\n",
    "  \"result\": <floating point value of the Final Score>\n",
    "}\n",
    "\n",
    "## General Guidance\n",
    "The questions will be about paint products and related topics. Deep research is not required. Use common sense to determine if the answer is polite, helpful and factual.\n",
    "\n",
    "```\n",
    "\"\"\""
   ]
  },
  {
   "cell_type": "markdown",
   "id": "baac3299",
   "metadata": {},
   "source": [
    "### 2.4 Put the Grader Together"
   ]
  },
  {
   "cell_type": "code",
   "execution_count": 10,
   "id": "4dd7d0c2",
   "metadata": {},
   "outputs": [],
   "source": [
    "# Now we define our Evaluation for validating our choice in grader prompt and model.\n",
    "\n",
    "# The entire user prompt is data driven from the file. No generation is done using\n",
    "# a model in this case, just simple string substitution using this pattern. This\n",
    "# means we directly reference the two fields in our baseline.jsonl file.\n",
    "\n",
    "USER_PROMPT = \"\"\"\n",
    "Q: {{item.question}}\n",
    "A: {{item.answer}}\n",
    "\"\"\"\n",
    "\n",
    "INPUT = [\n",
    "    {\n",
    "        \"type\": \"message\",\n",
    "        \"role\": \"system\",\n",
    "        \"content\": { \"type\": \"input_text\", \"text\": GRADER_PROMPT }\n",
    "    },\n",
    "    {\n",
    "        \"type\": \"message\",\n",
    "        \"role\": \"user\",\n",
    "        \"content\": { \"type\": \"input_text\", \"text\": USER_PROMPT }\n",
    "    }\n",
    "]\n",
    "\n",
    "# We need to describe what our evaluation dataset looks like.\n",
    "SCHEMA = {\n",
    "    \"type\": \"object\",\n",
    "    \"properties\": {\n",
    "        \"question\": { \"type\": \"string\" },\n",
    "        \"answer\": { \"type\": \"string\" },\n",
    "    }\n",
    "}\n",
    "DATA_SOURCE = {\n",
    "    \"item_schema\": SCHEMA,\n",
    "    \"include_sample_schema\": False,\n",
    "    \"type\": \"custom\",\n",
    "}\n",
    "\n",
    "# Lastly, we define test criteria that combines all the above.\n",
    "TESTING_CRITERIA = {\n",
    "    \"name\": \"Zava Tone Grader\",\n",
    "    \"type\": \"score_model\",\n",
    "    \"model\": GRADER_MODEL,\n",
    "    \"input\": INPUT,\n",
    "    \"range\": [1.0, 10.0],    # Our grader scores in a range from 1 to 10\n",
    "    \"pass_threshold\": 4.0,   # Let's say a 4 is \"passing\" for now.\n",
    "}"
   ]
  },
  {
   "cell_type": "markdown",
   "id": "edd3f23b",
   "metadata": {},
   "source": [
    "### 2.5 Submit The Evaluation Task"
   ]
  },
  {
   "cell_type": "code",
   "execution_count": 11,
   "id": "ce2a9254",
   "metadata": {},
   "outputs": [
    {
     "name": "stdout",
     "output_type": "stream",
     "text": [
      "⚖️ Submitted grader evaluation eval_6902e44bf4088191bfa465a19ec6d390.\n"
     ]
    }
   ],
   "source": [
    "# We've set up the parameters for our Eval, now we create it via the API.\n",
    "grader_eval = client.evals.create(\n",
    "    name=f\"zava-tone-baseline-{UNIQUE_ENOUGH_KEY}\",\n",
    "    data_source_config=DATA_SOURCE,\n",
    "    testing_criteria=[TESTING_CRITERIA],\n",
    ")\n",
    "\n",
    "print(f\"⚖️ Submitted grader evaluation {grader_eval.id}.\")"
   ]
  },
  {
   "cell_type": "markdown",
   "id": "9cadff41",
   "metadata": {},
   "source": [
    "### 2.6 Run The Evaluation Job"
   ]
  },
  {
   "cell_type": "code",
   "execution_count": 12,
   "id": "db80e24b",
   "metadata": {},
   "outputs": [
    {
     "name": "stdout",
     "output_type": "stream",
     "text": [
      "🏃‍➡️ Submitted run evalrun_6902e463fc588191a9b4709ecdcedc96 for eval_6902e44bf4088191bfa465a19ec6d390.\n"
     ]
    }
   ],
   "source": [
    "# Our evaluation needs a test run. This is where we let it know to use our\n",
    "# \"gold standard\" file (baseline.jsonl) to test our grader.\n",
    "\n",
    "RUN_DATA_SOURCE = {\n",
    "    \"type\": \"jsonl\",\n",
    "    \"source\": { \"type\": \"file_id\", \"id\": grader_eval_file.id }\n",
    "}\n",
    "grader_run = client.evals.runs.create(\n",
    "    name=f\"zava-tone-grader-{GRADER_MODEL}\",\n",
    "    eval_id=grader_eval.id,\n",
    "    data_source=RUN_DATA_SOURCE,\n",
    ")\n",
    "print(f\"🏃‍➡️ Submitted run {grader_run.id} for {grader_eval.id}.\")"
   ]
  },
  {
   "cell_type": "markdown",
   "id": "887047d3",
   "metadata": {},
   "source": [
    "### 2.7 Poll For Evaluation Results"
   ]
  },
  {
   "cell_type": "code",
   "execution_count": 13,
   "id": "f143b2a2",
   "metadata": {},
   "outputs": [
    {
     "name": "stdout",
     "output_type": "stream",
     "text": [
      "⏱️ Elapsed time: 0 minutes 10 seconds\n",
      "🏁 Run evalrun_6902e463fc588191a9b4709ecdcedc96: completed!\n"
     ]
    }
   ],
   "source": [
    "# An Eval Run takes time to complete. Let's actively wait for it to finish before continuing.\n",
    "from IPython.display import clear_output\n",
    "import time\n",
    "\n",
    "start_time = time.time()\n",
    "\n",
    "grader_run = client.evals.runs.retrieve(eval_id=grader_eval.id, run_id=grader_run.id)\n",
    "while grader_run.status not in [\"completed\", \"failed\"]:\n",
    "    time.sleep(5)\n",
    "    clear_output(wait=True)\n",
    "\n",
    "    grader_run = client.evals.runs.retrieve(eval_id=grader_eval.id, run_id=grader_run.id)\n",
    "    now = time.time()\n",
    "    mins, secs = int((now - start_time) // 60), int((now - start_time) % 60)\n",
    "    print(f\"⏱️ Elapsed time: {mins} minutes {secs} seconds\")\n",
    "\n",
    "print(f\"🏁 Run {grader_run.id}: {grader_run.status}!\")"
   ]
  },
  {
   "cell_type": "markdown",
   "id": "3a3407dd",
   "metadata": {},
   "source": [
    "### 2.8 View & Analyze Results\n",
    "\n",
    "You can see these on the Azure AI Foundry portal - or run a script to visualize them here"
   ]
  },
  {
   "cell_type": "code",
   "execution_count": 14,
   "id": "f68d58b2",
   "metadata": {},
   "outputs": [
    {
     "name": "stdout",
     "output_type": "stream",
     "text": [
      "Get Evaluation Runs: eval_6902e44bf4088191bfa465a19ec6d390\n",
      "\n",
      "==================================================\n",
      "Combined Evaluation Summary\n",
      "==================================================\n",
      "                                  Run ID            Run Name Model    Status Pass Percentage (%) Error Percentage (%)                         Evaluation ID             Evaluation Name\n",
      "evalrun_6902e463fc588191a9b4709ecdcedc96 zava-tone-grader-o3  None completed               100.0                  0.0 eval_6902e44bf4088191bfa465a19ec6d390 zava-tone-baseline-ef9ba7d2\n",
      "==================================================\n"
     ]
    },
    {
     "data": {
      "image/png": "[encoded data removed]",
      "text/plain": [
       "<Figure size 1200x300 with 1 Axes>"
      ]
     },
     "metadata": {},
     "output_type": "display_data"
    },
    {
     "name": "stdout",
     "output_type": "stream",
     "text": [
      "==================================================\n",
      "Fetching scores...\n",
      "==================================================\n",
      "\n",
      "==================================================\n",
      "Score Summary Table:\n",
      "Model             Evaluation Name Average Score Min Score Max Score 10th Percentile 25th Percentile 50th Percentile 75th Percentile 90th Percentile\n",
      " None zava-tone-baseline-ef9ba7d2          7.90      4.00     10.00            6.00            6.00            8.00           10.00           10.00\n",
      "==================================================\n"
     ]
    },
    {
     "data": {
      "image/png": "[encoded data removed]",
      "text/plain": [
       "<Figure size 2000x400 with 4 Axes>"
      ]
     },
     "metadata": {},
     "output_type": "display_data"
    }
   ],
   "source": [
    "# We've got a handy script for rendering the results from an Evaluations Runs. Let's\n",
    "# eyeball this stuff. It uses the Evals API to retrieve the scores and plot them.\n",
    "from eval_utils import display_evaluation_summary\n",
    "\n",
    "display_evaluation_summary(client, [grader_eval.id], x_range=(0, 10))\n",
    "\n",
    "# We should see that our grader generally thinks our \"gold standard\" is pretty on-brand for Zava tone. \n",
    "# This is where we'd iterate on tuning the grader, making sure we\n",
    "# clearly capture features for it to score, etc. We're keeping it simple for now."
   ]
  },
  {
   "cell_type": "markdown",
   "id": "851b76fe",
   "metadata": {},
   "source": [
    "---\n",
    "\n",
    "## 3. Baseline Testing Our Candidate Models"
   ]
  },
  {
   "cell_type": "markdown",
   "id": "371fb56d",
   "metadata": {},
   "source": [
    "### 3.1 Curate Q&A Dataset"
   ]
  },
  {
   "cell_type": "code",
   "execution_count": 15,
   "id": "ea010600",
   "metadata": {},
   "outputs": [
    {
     "data": {
      "text/html": [
       "<div>\n",
       "<style scoped>\n",
       "    .dataframe tbody tr th:only-of-type {\n",
       "        vertical-align: middle;\n",
       "    }\n",
       "\n",
       "    .dataframe tbody tr th {\n",
       "        vertical-align: top;\n",
       "    }\n",
       "\n",
       "    .dataframe thead th {\n",
       "        text-align: right;\n",
       "    }\n",
       "</style>\n",
       "<table border=\"1\" class=\"dataframe\">\n",
       "  <thead>\n",
       "    <tr style=\"text-align: right;\">\n",
       "      <th></th>\n",
       "      <th>question</th>\n",
       "      <th>answer</th>\n",
       "    </tr>\n",
       "  </thead>\n",
       "  <tbody>\n",
       "    <tr>\n",
       "      <th>0</th>\n",
       "      <td>What's the best paint for kitchen walls?</td>\n",
       "      <td>Interior Semi-Gloss Paint is ideal for kitchens due to its moisture resistance and washable finish.</td>\n",
       "    </tr>\n",
       "    <tr>\n",
       "      <th>1</th>\n",
       "      <td>How much does Premium Interior Latex Flat cost?</td>\n",
       "      <td>$40.</td>\n",
       "    </tr>\n",
       "    <tr>\n",
       "      <th>2</th>\n",
       "      <td>What type of paint should I use for bathroom walls?</td>\n",
       "      <td>Interior Semi-Gloss Paint, as it's moisture resistant and washable.</td>\n",
       "    </tr>\n",
       "    <tr>\n",
       "      <th>3</th>\n",
       "      <td>Is there an environmentally friendly paint option available?</td>\n",
       "      <td>Yes, Zero VOC Interior Paint for healthy indoor air quality.</td>\n",
       "    </tr>\n",
       "    <tr>\n",
       "      <th>4</th>\n",
       "      <td>What's the price of Zero VOC Interior Paint?</td>\n",
       "      <td>$52.</td>\n",
       "    </tr>\n",
       "  </tbody>\n",
       "</table>\n",
       "</div>"
      ],
      "text/plain": [
       "                                                       question                                                                                               answer\n",
       "0                      What's the best paint for kitchen walls?  Interior Semi-Gloss Paint is ideal for kitchens due to its moisture resistance and washable finish.\n",
       "1               How much does Premium Interior Latex Flat cost?                                                                                                 $40.\n",
       "2           What type of paint should I use for bathroom walls?                                  Interior Semi-Gloss Paint, as it's moisture resistant and washable.\n",
       "3  Is there an environmentally friendly paint option available?                                         Yes, Zero VOC Interior Paint for healthy indoor air quality.\n",
       "4                  What's the price of Zero VOC Interior Paint?                                                                                                 $52."
      ]
     },
     "execution_count": 15,
     "metadata": {},
     "output_type": "execute_result"
    }
   ],
   "source": [
    "import pandas as pd\n",
    "\n",
    "# Read the JSONL file into a DataFrame and print the first 5 rows in 2 columns\n",
    "qa_jsonl_df = pd.read_json(\"data/demo/distill_sft_qa.jsonl\", lines=True)\n",
    "# Display all columns and set display width to show full text in the output\n",
    "pd.set_option('display.max_colwidth', None)\n",
    "pd.set_option('display.width', 200)\n",
    "pd.DataFrame(\n",
    "    [\n",
    "        {\"question\": row[\"item\"][\"question\"], \"answer\": row[\"item\"][\"answer\"]}\n",
    "        for _, row in qa_jsonl_df.head(5).iterrows()\n",
    "    ]\n",
    ")\n"
   ]
  },
  {
   "cell_type": "markdown",
   "id": "dc388ad7",
   "metadata": {},
   "source": [
    "### 3.2 Split Training & Validation"
   ]
  },
  {
   "cell_type": "code",
   "execution_count": 16,
   "id": "d12911fd",
   "metadata": {},
   "outputs": [
    {
     "name": "stdout",
     "output_type": "stream",
     "text": [
      "Number of Q/A pairs: 306\n"
     ]
    }
   ],
   "source": [
    "import json\n",
    "\n",
    "qa = []\n",
    "with open(\"data/demo/distill_sft_qa.jsonl\", \"r\") as f:\n",
    "    for line in f.readlines():\n",
    "        qa.append(json.loads(line))\n",
    "\n",
    "print(f\"Number of Q/A pairs: {len(qa)}\")\n"
   ]
  },
  {
   "cell_type": "code",
   "execution_count": 17,
   "id": "d8726f8e",
   "metadata": {},
   "outputs": [
    {
     "name": "stdout",
     "output_type": "stream",
     "text": [
      "153 pairs for baseline testing, 153 for validation.\n"
     ]
    }
   ],
   "source": [
    "\n",
    "# First we'll randomize it to maybe prove a point that this isn't totally staged 😜\n",
    "from random import shuffle\n",
    "shuffle(qa)\n",
    "\n",
    "# Now we split 50/50.\n",
    "split_at = int(len(qa) / 2)\n",
    "qa_baseline = qa[:split_at]\n",
    "qa_validation = qa[split_at:]\n",
    "\n",
    "# Check it.\n",
    "print(f\"{len(qa_baseline)} pairs for baseline testing, {len(qa_validation)} for validation.\")"
   ]
  },
  {
   "cell_type": "markdown",
   "id": "5010febd",
   "metadata": {},
   "source": [
    "### 3.3 Upload baseline (training) set"
   ]
  },
  {
   "cell_type": "code",
   "execution_count": 18,
   "id": "856d7187",
   "metadata": {},
   "outputs": [
    {
     "name": "stdout",
     "output_type": "stream",
     "text": [
      "Created baseline file:\n",
      "{\n",
      "  \"id\": \"file-8628f84683de4bddac49ac3ba631b650\",\n",
      "  \"bytes\": 26525,\n",
      "  \"created_at\": 1761797342,\n",
      "  \"filename\": \"zava-tone-baseline-ef9ba7d2.jsonl\",\n",
      "  \"object\": \"file\",\n",
      "  \"purpose\": \"evals\",\n",
      "  \"status\": \"processed\"\n",
      "}\n"
     ]
    }
   ],
   "source": [
    "# Now we'll upload our baseline dataset and prepare our Evaluation. We need to save the data\n",
    "# to disk first for...reasons...because of the OpenAI SDK. That's fine.\n",
    "filename = f\"./zava-tone-baseline-{UNIQUE_ENOUGH_KEY}.jsonl\"\n",
    "\n",
    "with open(filename, \"w\") as f:\n",
    "    for row in qa_baseline:\n",
    "        json.dump(row, f)\n",
    "        f.write(\"\\n\")\n",
    "\n",
    "baseline_file = None\n",
    "with open(filename, \"rb\") as f:\n",
    "    baseline_file = client.files.create(purpose=\"evals\", file=f)\n",
    "    baseline_file = client.files.wait_for_processing(baseline_file.id)\n",
    "\n",
    "print(f\"Created baseline file:\\n{baseline_file.to_json(indent=2)}\")"
   ]
  },
  {
   "cell_type": "markdown",
   "id": "8e269ad0",
   "metadata": {},
   "source": [
    "### 3.4 Create The Baseline Evaluation"
   ]
  },
  {
   "cell_type": "code",
   "execution_count": 19,
   "id": "bf281e96",
   "metadata": {},
   "outputs": [
    {
     "name": "stdout",
     "output_type": "stream",
     "text": [
      "⚖️ Created baseline eval eval_6902e50192988191b41a23ce71bd5647\n"
     ]
    }
   ],
   "source": [
    "# We'll now build out the Evaluation details. In this case, we'll *generate* responses\n",
    "# using a base model, unlike before where we used the pre-canned results just to test\n",
    "# the grader.\n",
    "\n",
    "# We'll use a simple system prompt to show how distillation and fine-tuning let us\n",
    "# get away without overly complex prompt engineering.\n",
    "SYSTEM_PROMPT = \"You are Cora, a polite, factual and helpful assistant for Zava, a DIY hardware store.\"\n",
    "\n",
    "# We'll use a flee of base models as our baseline, including `o3` (our grader).\n",
    "BASE_MODELS = [\n",
    "    \"o3\",\n",
    "    \"o4-mini\",\n",
    "    \"o3-mini\",\n",
    "    \"gpt-4.1-mini\",\n",
    "    \"gpt-4.1-nano\",\n",
    "    \"gpt-4o\",\n",
    "    \"gpt-4o-mini\"\n",
    "]\n",
    "\n",
    "# The prompt we'll grade will look like this pattern. Similar to before, but now we're\n",
    "# going to use {{sample.output_text}} to substitute what the model under test generates.\n",
    "USER_PROMPT = \"\"\"\n",
    "Q: {{item.question}}\n",
    "A: {{sample.output_text}}\n",
    "\"\"\"\n",
    "\n",
    "# Input to our grader remains the same as before, but we reproduce it here for context.\n",
    "INPUT = [\n",
    "    {\n",
    "        \"type\": \"message\",\n",
    "        \"role\": \"system\",\n",
    "        \"content\": { \"type\": \"input_text\", \"text\": GRADER_PROMPT }\n",
    "    },\n",
    "    {\n",
    "        \"type\": \"message\",\n",
    "        \"role\": \"user\",\n",
    "        \"content\": { \"type\": \"input_text\", \"text\": USER_PROMPT }\n",
    "    }\n",
    "]\n",
    "\n",
    "# The schema and data source are similar, but with one major difference noted below.\n",
    "SCHEMA = {\n",
    "    \"type\": \"object\",\n",
    "    \"properties\": {\n",
    "        \"question\": { \"type\": \"string\" },\n",
    "        \"answer\": { \"type\": \"string\" },\n",
    "    },\n",
    "}\n",
    "DATA_SOURCE = {\n",
    "    \"item_schema\": SCHEMA, \n",
    "    \"include_sample_schema\": True, # Note this change! Needed for data gen.\n",
    "    \"type\": \"custom\"\n",
    "}\n",
    "\n",
    "# Same testing criteria, reproduced again for context.\n",
    "TESTING_CRITERIA = {\n",
    "    \"name\": \"Zava Tone Grader\",\n",
    "    \"type\": \"score_model\",\n",
    "    \"model\": GRADER_MODEL,\n",
    "    \"input\": INPUT,\n",
    "    \"range\": [1.0, 10.0],\n",
    "    \"pass_threshold\": 4.0,\n",
    "}\n",
    "\n",
    "# We create one Evaluation for *all* our base models. Each model is tested in a\n",
    "# distinct Run that we'll define next.\n",
    "baseline_eval = client.evals.create(\n",
    "    name=f\"zava-tone-baseline-{UNIQUE_ENOUGH_KEY}\",\n",
    "    data_source_config=DATA_SOURCE,\n",
    "    testing_criteria=[TESTING_CRITERIA]\n",
    ")\n",
    "print(f\"⚖️ Created baseline eval {baseline_eval.id}\")"
   ]
  },
  {
   "cell_type": "markdown",
   "id": "d14ac8b7",
   "metadata": {},
   "source": [
    "### 3.5 Run Baseline Evaluation"
   ]
  },
  {
   "cell_type": "code",
   "execution_count": 20,
   "id": "4d93f1cf",
   "metadata": {},
   "outputs": [
    {
     "name": "stdout",
     "output_type": "stream",
     "text": [
      "🏃‍➡️ Created run evalrun_6902e50ecfe08191bcb2689ba5982b56 for eval eval_6902e50192988191b41a23ce71bd5647\n",
      "🏃‍➡️ Created run evalrun_6902e50fb9948191a8de2efdb2bd0f1b for eval eval_6902e50192988191b41a23ce71bd5647\n",
      "🏃‍➡️ Created run evalrun_6902e51045b881919132d6b2c11146f8 for eval eval_6902e50192988191b41a23ce71bd5647\n",
      "🏃‍➡️ Created run evalrun_6902e510c828819197f4fdd4a4e8daef for eval eval_6902e50192988191b41a23ce71bd5647\n",
      "🏃‍➡️ Created run evalrun_6902e5119a7481918d692ca2de0d2500 for eval eval_6902e50192988191b41a23ce71bd5647\n",
      "🏃‍➡️ Created run evalrun_6902e5120fd08191b814628f4cd538b8 for eval eval_6902e50192988191b41a23ce71bd5647\n",
      "🏃‍➡️ Created run evalrun_6902e513380881919df06ceea133b535 for eval eval_6902e50192988191b41a23ce71bd5647\n"
     ]
    }
   ],
   "source": [
    "# Each run gets its own data source definition as it needs to specify a different\n",
    "# model deployment to use for generation. The template is the prompt template\n",
    "# sent to the model under test. It uses the simple Clippy system prompt and for\n",
    "# the user input, we use the \"question\" from the baseline Q&A data file.\n",
    "baseline_runs = []\n",
    "for model in BASE_MODELS:\n",
    "    RUN_DATA_SOURCE = {\n",
    "        \"type\": \"completions\",\n",
    "        \"model\": model,\n",
    "        \"source\": { \"type\": \"file_id\", \"id\": baseline_file.id },\n",
    "        \"input_messages\": {\n",
    "            \"type\": \"template\",\n",
    "            \"template\": [\n",
    "                { \n",
    "                    \"type\": \"message\", \n",
    "                    \"role\": \"system\", \n",
    "                    \"content\": { \"type\": \"input_text\", \"text\": SYSTEM_PROMPT },\n",
    "                },\n",
    "                { \n",
    "                    \"type\": \"message\", \n",
    "                    \"role\": \"user\", \n",
    "                    \"content\": { \"type\": \"input_text\", \"text\": \"{{item.question}}\" },\n",
    "                },\n",
    "            ],\n",
    "        },\n",
    "        \"sampling_params\": { \"max_completions_tokens\": 20_000 } if model.startswith(\"o\") else { \"max_completions_tokens\": 100 }, # XXX\n",
    "    }\n",
    "    run = client.evals.runs.create(\n",
    "        name=f\"{model}-{UNIQUE_ENOUGH_KEY}\", \n",
    "        eval_id=baseline_eval.id,\n",
    "        data_source=RUN_DATA_SOURCE, \n",
    "    )\n",
    "    print(f\"🏃‍➡️ Created run {run.id} for eval {baseline_eval.id}\")\n",
    "    baseline_runs.append(run)"
   ]
  },
  {
   "cell_type": "markdown",
   "id": "43b4f158",
   "metadata": {},
   "source": [
    "### 3.6 Poll For Evaluation Results"
   ]
  },
  {
   "cell_type": "code",
   "execution_count": 21,
   "id": "8d8b4956",
   "metadata": {},
   "outputs": [
    {
     "name": "stdout",
     "output_type": "stream",
     "text": [
      "🏃‍➡️ Run o3-ef9ba7d2: completed\n",
      "🏃‍➡️ Run o4-mini-ef9ba7d2: completed\n",
      "🏃‍➡️ Run o3-mini-ef9ba7d2: completed\n",
      "🏃‍➡️ Run gpt-4.1-mini-ef9ba7d2: completed\n",
      "🏃‍➡️ Run gpt-4.1-nano-ef9ba7d2: failed\n",
      "🏃‍➡️ Run gpt-4o-ef9ba7d2: completed\n",
      "🏃‍➡️ Run gpt-4o-mini-ef9ba7d2: completed\n",
      "⏱️ Elapsed time: 18 minutes 40 seconds\n",
      "🏁 All 7 runs completed!\n"
     ]
    }
   ],
   "source": [
    "# We now have to wait for our half-dozen or so Runs to finish. Twiddle your thumbs a bit!\n",
    "from IPython.display import clear_output\n",
    "import time\n",
    "\n",
    "start_time = time.time()\n",
    "\n",
    "while any([r.status not in [\"completed\", \"failed\"] for r in baseline_runs]):\n",
    "    time.sleep(10)\n",
    "    clear_output(wait=True)\n",
    "\n",
    "    for i in range(len(baseline_runs)):\n",
    "        baseline_runs[i] = client.evals.runs.retrieve(eval_id=baseline_eval.id, run_id=baseline_runs[i].id)\n",
    "        print(f\"🏃‍➡️ Run {baseline_runs[i].name}: {baseline_runs[i].status}\")\n",
    "    \n",
    "    now = time.time()\n",
    "    print(\"⏱️ Elapsed time: {} minutes {} seconds\".format(int((now - start_time) // 60), int((now - start_time) % 60)))\n",
    "\n",
    "print(f\"🏁 All {len(baseline_runs)} runs completed!\")"
   ]
  },
  {
   "cell_type": "markdown",
   "id": "39495ddb",
   "metadata": {},
   "source": [
    "### 3.7 Visualize Results & Pick Model"
   ]
  },
  {
   "cell_type": "code",
   "execution_count": 22,
   "id": "f77608b5",
   "metadata": {},
   "outputs": [
    {
     "name": "stdout",
     "output_type": "stream",
     "text": [
      "Get Evaluation Runs: eval_6902e50192988191b41a23ce71bd5647\n",
      "\n",
      "==================================================\n",
      "Combined Evaluation Summary\n",
      "==================================================\n",
      "                                  Run ID              Run Name        Model    Status Pass Percentage (%) Error Percentage (%)                         Evaluation ID             Evaluation Name\n",
      "evalrun_6902e50ecfe08191bcb2689ba5982b56           o3-ef9ba7d2           o3 completed          100.000000            90.196078 eval_6902e50192988191b41a23ce71bd5647 zava-tone-baseline-ef9ba7d2\n",
      "evalrun_6902e50fb9948191a8de2efdb2bd0f1b      o4-mini-ef9ba7d2      o4-mini completed           97.590361             0.653595 eval_6902e50192988191b41a23ce71bd5647 zava-tone-baseline-ef9ba7d2\n",
      "evalrun_6902e51045b881919132d6b2c11146f8      o3-mini-ef9ba7d2      o3-mini completed           92.771084             0.000000 eval_6902e50192988191b41a23ce71bd5647 zava-tone-baseline-ef9ba7d2\n",
      "evalrun_6902e5120fd08191b814628f4cd538b8       gpt-4o-ef9ba7d2       gpt-4o completed           89.189189             0.000000 eval_6902e50192988191b41a23ce71bd5647 zava-tone-baseline-ef9ba7d2\n",
      "evalrun_6902e513380881919df06ceea133b535  gpt-4o-mini-ef9ba7d2  gpt-4o-mini completed           83.750000             0.000000 eval_6902e50192988191b41a23ce71bd5647 zava-tone-baseline-ef9ba7d2\n",
      "evalrun_6902e510c828819197f4fdd4a4e8daef gpt-4.1-mini-ef9ba7d2 gpt-4.1-mini completed           62.686567             0.000000 eval_6902e50192988191b41a23ce71bd5647 zava-tone-baseline-ef9ba7d2\n",
      "evalrun_6902e5119a7481918d692ca2de0d2500 gpt-4.1-nano-ef9ba7d2 gpt-4.1-nano    failed            0.000000             0.000000 eval_6902e50192988191b41a23ce71bd5647 zava-tone-baseline-ef9ba7d2\n",
      "==================================================\n"
     ]
    },
    {
     "data": {
      "image/png": "[encoded data removed]",
      "text/plain": [
       "<Figure size 1200x350 with 1 Axes>"
      ]
     },
     "metadata": {},
     "output_type": "display_data"
    },
    {
     "name": "stdout",
     "output_type": "stream",
     "text": [
      "==================================================\n",
      "Fetching scores...\n",
      "==================================================\n",
      "\n",
      "==================================================\n",
      "Score Summary Table:\n",
      "       Model             Evaluation Name Average Score Min Score Max Score 10th Percentile 25th Percentile 50th Percentile 75th Percentile 90th Percentile\n",
      "          o3 zava-tone-baseline-ef9ba7d2          7.45      4.00      9.00            4.00            6.00            9.00            9.00            9.00\n",
      "     o3-mini zava-tone-baseline-ef9ba7d2          6.84      1.00      9.00            4.00            5.00            8.00            9.00            9.00\n",
      "     o4-mini zava-tone-baseline-ef9ba7d2          4.61      1.00      9.00            4.00            4.00            4.00            5.00            7.40\n",
      "      gpt-4o zava-tone-baseline-ef9ba7d2          3.86      1.00      9.00            1.90            4.00            4.00            4.00            4.00\n",
      " gpt-4o-mini zava-tone-baseline-ef9ba7d2          3.60      1.00      9.00            1.00            4.00            4.00            4.00            4.00\n",
      "gpt-4.1-mini zava-tone-baseline-ef9ba7d2          3.49      1.00      9.00            1.00            1.00            4.00            4.00            8.00\n",
      "==================================================\n"
     ]
    },
    {
     "data": {
      "image/png": "[encoded data removed]",
      "text/plain": [
       "<Figure size 2000x800 with 8 Axes>"
      ]
     },
     "metadata": {},
     "output_type": "display_data"
    }
   ],
   "source": [
    "# Let's visualize our evaluation and identify the best and worst performers.\n",
    "display_evaluation_summary(client, [baseline_eval.id], x_range=(1, 10))"
   ]
  },
  {
   "cell_type": "markdown",
   "id": "ea5478eb",
   "metadata": {},
   "source": [
    "---\n",
    "\n",
    "## 4. Distillation From Teacher"
   ]
  },
  {
   "cell_type": "markdown",
   "id": "b0c8a981",
   "metadata": {},
   "source": [
    "### 4.1 Find Our Winning Model"
   ]
  },
  {
   "cell_type": "code",
   "execution_count": 23,
   "id": "da251df8",
   "metadata": {},
   "outputs": [
    {
     "name": "stdout",
     "output_type": "stream",
     "text": [
      "😜 Ok! Let's use o4-mini. It had 81 excellent responses.\n"
     ]
    }
   ],
   "source": [
    "# We'll find the model that generated the most \"excellent\" (>= 6.0) examples of Zava tone.\n",
    "# NN-TOFIX: Pick the cutoff that gives you at least 10 training samples, else ft job will fail\n",
    "CUTOFF = 4.0\n",
    "HIGH_SCORES = {\n",
    "    \"o3\": [],\n",
    "    \"o4-mini\": [],\n",
    "    \"o3-mini\": [],\n",
    "    \"gpt-4.1-mini\": [],\n",
    "    \"gpt-4.1-nano\": [],\n",
    "    \"gpt-4o\": [],\n",
    "    \"gpt-4o-mini\": [],\n",
    "}\n",
    "\n",
    "# Let's find our responses that were Excellent (at or above CUTOFF). We'll collect them\n",
    "# and pre-format them into chat completions format to save time later.\n",
    "#\n",
    "# This part is honestly a bit tricky...we're extracting the prompts and responses for the\n",
    "# model under test and *not* the prompts to the grader, so we have to do surgery. 🔪\n",
    "for run in baseline_runs:\n",
    "    pages = client.evals.runs.output_items.list(run.id, eval_id=baseline_eval.id).iter_pages()\n",
    "    for page in pages:\n",
    "        for item in page.data:\n",
    "            # We only used 1 grader. If you use multiple, you should look for which ones you want.\n",
    "            if not item.results:\n",
    "                continue\n",
    "            result = item.results[0]\n",
    "            if result[\"score\"] >= CUTOFF:\n",
    "                generated = result[\"sample\"][\"input\"][-1][\"content\"].strip().split(\"\\nA: \")\n",
    "                question = generated[0][3:] # drops the \"Q: \"\n",
    "                answer = generated[-1]\n",
    "                messages = [\n",
    "                    { \"role\": \"system\", \"content\": SYSTEM_PROMPT },\n",
    "                    { \"role\": \"user\", \"content\": question },\n",
    "                    { \"role\": \"assistant\", \"content\": answer },\n",
    "                ]\n",
    "                HIGH_SCORES[run.model].append({ \"messages\": messages })\n",
    "\n",
    "# Time to find the winner! Obviously, this is probably o3...\n",
    "winning_model = \"\"\n",
    "winning_cnt = 0\n",
    "for key in HIGH_SCORES.keys():\n",
    "    if len(HIGH_SCORES[key]) > winning_cnt:\n",
    "        winning_model = key\n",
    "        winning_cnt = len(HIGH_SCORES[key])\n",
    "        \n",
    "print(f\"😜 Ok! Let's use {winning_model}. It had {winning_cnt} excellent responses.\")"
   ]
  },
  {
   "cell_type": "markdown",
   "id": "f3e6fef4",
   "metadata": {},
   "source": [
    "### 4.2 Create Our Training Datasets"
   ]
  },
  {
   "cell_type": "code",
   "execution_count": 24,
   "id": "38531244",
   "metadata": {},
   "outputs": [
    {
     "name": "stdout",
     "output_type": "stream",
     "text": [
      "Split into 64 training / 17 validation rows.\n",
      "🏋️‍♂️ Created training file:\n",
      "{\n",
      "  \"id\": \"file-f03e01912af243f1b297c0f07ae9ebc8\",\n",
      "  \"bytes\": 178822,\n",
      "  \"created_at\": 1761798651,\n",
      "  \"filename\": \"zava-tone-training-ef9ba7d2.jsonl\",\n",
      "  \"object\": \"file\",\n",
      "  \"purpose\": \"fine-tune\",\n",
      "  \"status\": \"processed\"\n",
      "}\n",
      "📋 Created validation file:\n",
      "{\n",
      "  \"id\": \"file-57ef136cb2d2468fb52ad97e8cfabca6\",\n",
      "  \"bytes\": 53609,\n",
      "  \"created_at\": 1761798657,\n",
      "  \"filename\": \"zava-tone-validation-ef9ba7d2.jsonl\",\n",
      "  \"object\": \"file\",\n",
      "  \"purpose\": \"fine-tune\",\n",
      "  \"status\": \"processed\"\n",
      "}\n"
     ]
    }
   ],
   "source": [
    "# Before we go any further, let's turn our collected excellent responses into our\n",
    "# training and validation fine-tuning datasets. Like before, we have to write these\n",
    "# to disk and then upload them via the Files API.\n",
    "training_filename = f\"zava-tone-training-{UNIQUE_ENOUGH_KEY}.jsonl\"\n",
    "validation_filename = f\"zava-tone-validation-{UNIQUE_ENOUGH_KEY}.jsonl\"\n",
    "\n",
    "# Make an 80/20 split to form our training/validation data.\n",
    "split_at = int(len(HIGH_SCORES[winning_model]) * 0.80)\n",
    "training_data = HIGH_SCORES[winning_model][:split_at]\n",
    "validation_data = HIGH_SCORES[winning_model][split_at:]\n",
    "print(f\"Split into {len(training_data)} training / {len(validation_data)} validation rows.\")\n",
    "\n",
    "# Create and upload the training data.\n",
    "with open(training_filename, \"w\") as f:\n",
    "    for message in training_data:\n",
    "        json.dump(message, f)\n",
    "        f.write(\"\\n\")\n",
    "with open(training_filename, \"rb\") as f:\n",
    "    training_file = client.files.create(file=f, purpose=\"fine-tune\")\n",
    "    training_file = client.files.wait_for_processing(training_file.id)\n",
    "print(f\"🏋️‍♂️ Created training file:\\n{training_file.to_json(indent=2)}\")\n",
    "\n",
    "# Create and upload the validation data.\n",
    "with open(validation_filename, \"w\") as f:\n",
    "    for message in validation_data:\n",
    "        json.dump(message, f)\n",
    "        f.write(\"\\n\")\n",
    "with open(validation_filename, \"rb\") as f:\n",
    "    validation_file = client.files.create(file=f, purpose=\"fine-tune\")\n",
    "    validation_file = client.files.wait_for_processing(validation_file.id)\n",
    "print(f\"📋 Created validation file:\\n{validation_file.to_json(indent=2)}\")"
   ]
  },
  {
   "cell_type": "markdown",
   "id": "7d13a2fb",
   "metadata": {},
   "source": [
    "### 4.3 Training The Student"
   ]
  },
  {
   "cell_type": "code",
   "execution_count": 25,
   "id": "79c79880",
   "metadata": {},
   "outputs": [
    {
     "name": "stdout",
     "output_type": "stream",
     "text": [
      "👨‍🔬 Created fine-tuning job:\n",
      "{\n",
      "  \"id\": \"ftjob-df87eddb1e054d1a85203a3742c1dc5b\",\n",
      "  \"created_at\": 1761798786,\n",
      "  \"hyperparameters\": {\n",
      "    \"batch_size\": -1,\n",
      "    \"learning_rate_multiplier\": 2.0,\n",
      "    \"n_epochs\": -1\n",
      "  },\n",
      "  \"model\": \"gpt-4.1-mini-2025-04-14\",\n",
      "  \"object\": \"fine_tuning.job\",\n",
      "  \"seed\": 960367251,\n",
      "  \"status\": \"pending\",\n",
      "  \"training_file\": \"file-f03e01912af243f1b297c0f07ae9ebc8\",\n",
      "  \"validation_file\": \"file-57ef136cb2d2468fb52ad97e8cfabca6\",\n",
      "  \"estimated_finish\": 1761802326,\n",
      "  \"suffix\": \"o4-mini-zava-tone-ef9ba7d2\",\n",
      "  \"trainingType\": \"globalStandard\"\n",
      "}\n"
     ]
    }
   ],
   "source": [
    "# Now we start training! Submit our fine-tuning job to teach 4.1-nano new tricks.\n",
    "## NN-TOFIX: Check STUDENT MODEL name\n",
    "TEACHER_MODEL = winning_model\n",
    "STUDENT_MODEL = \"gpt-4.1-mini-2025-04-14\" #\"gpt-4.1-nano-2025-04-14\"\n",
    "SUFFIX = f\"{TEACHER_MODEL}-zava-tone-{UNIQUE_ENOUGH_KEY}\".replace(\".\", \"\") # '.' is a reserved character 😜\n",
    "\n",
    "job = client.fine_tuning.jobs.create(\n",
    "    model=STUDENT_MODEL,\n",
    "    suffix=SUFFIX,\n",
    "    training_file=training_file.id,\n",
    "    validation_file=validation_file.id,\n",
    "    extra_body={ \"trainingType\": \"globalstandard\" }\n",
    ")\n",
    "print(f\"👨‍🔬 Created fine-tuning job:\\n{job.to_json(indent=2)}\")"
   ]
  },
  {
   "cell_type": "markdown",
   "id": "b71fc867",
   "metadata": {},
   "source": [
    "### 4.4 Wait For Fine Tuning Job"
   ]
  },
  {
   "cell_type": "code",
   "execution_count": 26,
   "id": "8dd907ab",
   "metadata": {},
   "outputs": [
    {
     "name": "stdout",
     "output_type": "stream",
     "text": [
      "👨‍🔬 Job ftjob-df87eddb1e054d1a85203a3742c1dc5b: succeeded\n",
      "⏱️ Elapsed time: 61 minutes 31 seconds\n",
      "🏁 Fine-tuning finished!\n"
     ]
    }
   ],
   "source": [
    "# Wait for our FT job to complete. You may want to go work on some other tasks for now 😜\n",
    "from IPython.display import clear_output\n",
    "import time\n",
    "\n",
    "start_time = time.time()\n",
    "\n",
    "status = job.status\n",
    "while status not in [\"succeeded\", \"failed\", \"cancelled\"]:\n",
    "    time.sleep(10)\n",
    "    job = client.fine_tuning.jobs.retrieve(job.id)\n",
    "    status = job.status\n",
    "    clear_output(wait=True)\n",
    "    print(f\"👨‍🔬 Job {job.id}: {status}\")\n",
    "    print(\"⏱️ Elapsed time: {} minutes {} seconds\".format(int((time.time() - start_time) // 60), int((time.time() - start_time) % 60)))\n",
    "\n",
    "if status == \"succeeded\":\n",
    "    print(f\"🏁 Fine-tuning finished!\")\n",
    "else:\n",
    "    raise RuntimeError(f\"Fine-tuning job did not complete successfully (status={status})\")"
   ]
  },
  {
   "cell_type": "markdown",
   "id": "22d108c2",
   "metadata": {},
   "source": [
    "---\n",
    "\n",
    "## 5. Judging The Distilled Student"
   ]
  },
  {
   "cell_type": "markdown",
   "id": "224127cf",
   "metadata": {},
   "source": [
    "### 5.1 Deploy Fine-Tuned Model"
   ]
  },
  {
   "cell_type": "code",
   "execution_count": 27,
   "id": "ca89054c",
   "metadata": {},
   "outputs": [
    {
     "name": "stdout",
     "output_type": "stream",
     "text": [
      "🛳️ Submitted deployment <azure.core.polling._poller.LROPoller object at 0x740ec01a1520>\n"
     ]
    }
   ],
   "source": [
    "# Now we need to deploy our fine-tuned model. We'll use Developer Tier to keep\n",
    "# costs under control for evaluation.\n",
    "\n",
    "# We can't do this with the OpenAI SDK, so we need to reach for the Azure SDK.\n",
    "from azure.identity import DefaultAzureCredential\n",
    "from azure.mgmt.cognitiveservices import CognitiveServicesManagementClient\n",
    "\n",
    "cogsvc_client = CognitiveServicesManagementClient(\n",
    "    credential=DefaultAzureCredential(),\n",
    "    subscription_id=os.environ.get(\"AZURE_SUBSCRIPTION_ID\")\n",
    ")\n",
    "\n",
    "# Define our Deployment. Note the use of SKU for specificy capacity and\n",
    "# the name of the deployment tier.\n",
    "DEPLOYMENT_NAME = f\"zava-tone-distilled-{SUFFIX}\"\n",
    "DEPLOYMENT = {\n",
    "    \"properties\": {\n",
    "        \"model\": { \n",
    "            \"format\": \"OpenAI\", \n",
    "            \"name\": job.fine_tuned_model, \n",
    "            \"version\": \"1\" \n",
    "        },\n",
    "    },\n",
    "    \"sku\": { \n",
    "        \"capacity\": 250, \n",
    "        \"name\": \"DeveloperTier\" \n",
    "    },\n",
    "}\n",
    "\n",
    "# Submit the request for provisioning. This may take a few minutes, so we\n",
    "# poll for updates. If it already exists, this should return quickly. Since\n",
    "# we're deploying a 4.1-nano model, this should only take 3-5 minutes tops.\n",
    "deployment = cogsvc_client.deployments.begin_create_or_update(\n",
    "    resource_group_name=os.environ.get(\"AZURE_RESOURCE_GROUP\"),\n",
    "    account_name=os.environ.get(\"AZURE_AI_FOUNDRY_NAME\"),\n",
    "    deployment_name=DEPLOYMENT_NAME,\n",
    "    deployment=DEPLOYMENT,\n",
    ")\n",
    "print(f\"🛳️ Submitted deployment {deployment}\")"
   ]
  },
  {
   "cell_type": "markdown",
   "id": "89d950f0",
   "metadata": {},
   "source": [
    "### 5.2 Wait Till Deployment Ready"
   ]
  },
  {
   "cell_type": "code",
   "execution_count": 28,
   "id": "88230a2e",
   "metadata": {},
   "outputs": [
    {
     "name": "stdout",
     "output_type": "stream",
     "text": [
      "🛳️ Provisioning zava-tone-distilled-o4-mini-zava-tone-ef9ba7d2: Succeeded\n",
      "⏱️Elapsed time: 3 minutes 20 seconds\n",
      "🏁 Provisioning finished!\n"
     ]
    }
   ],
   "source": [
    "# Wait for our deployment to finish provisioning.\n",
    "from IPython.display import clear_output\n",
    "import time\n",
    "\n",
    "start_time = time.time()\n",
    "status = deployment.status()\n",
    "\n",
    "while status not in [\"Succeeded\", \"Failed\"]:\n",
    "    deployment.wait(5)\n",
    "    status = deployment.status()\n",
    "    clear_output(wait=True)\n",
    "    print(f\"🛳️ Provisioning {DEPLOYMENT_NAME}: {status}\")\n",
    "    print(\"⏱️Elapsed time: {} minutes {} seconds\".format(int((time.time() - start_time) // 60), int((time.time() - start_time) % 60)))\n",
    "\n",
    "print(f\"🏁 Provisioning finished!\")\n"
   ]
  },
  {
   "cell_type": "markdown",
   "id": "2b83dd8a",
   "metadata": {},
   "source": [
    "### 5.3 Upload Validation Data"
   ]
  },
  {
   "cell_type": "code",
   "execution_count": 29,
   "id": "b687d4c6",
   "metadata": {},
   "outputs": [],
   "source": [
    "# Now we'll upload our post-training validation dataset and prepare our final Evaluation.\n",
    "# We need to save the data to disk first, again for...reasons.\n",
    "filename = f\"./zava-tone-posttraining-{UNIQUE_ENOUGH_KEY}.jsonl\"\n",
    "\n",
    "with open(filename, \"w\") as f:\n",
    "    for row in qa_validation:\n",
    "        json.dump(row, f)\n",
    "        f.write(\"\\n\")\n",
    "\n",
    "posttraining_file = None\n",
    "with open(filename, \"rb\") as f:\n",
    "    posttraining_file = client.files.create(purpose=\"evals\", file=f)\n",
    "    posttraining_file = client.files.wait_for_processing(posttraining_file.id)"
   ]
  },
  {
   "cell_type": "markdown",
   "id": "f216611d",
   "metadata": {},
   "source": [
    "### 5.4 Evaluate Student vs. Peers"
   ]
  },
  {
   "cell_type": "code",
   "execution_count": 31,
   "id": "7c4ac102",
   "metadata": {},
   "outputs": [
    {
     "name": "stdout",
     "output_type": "stream",
     "text": [
      "Created eval eval_6902fa64082c8191b457859e5cab87b1\n",
      "🏃‍➡️ Created run evalrun_6902fa647e3881919397570d9f59cef6 for eval_6902fa64082c8191b457859e5cab87b1\n",
      "🏃‍➡️ Created run evalrun_6902fa64ff40819186bf80c8c6f38d60 for eval_6902fa64082c8191b457859e5cab87b1\n",
      "🏃‍➡️ Created run evalrun_6902fa65ee5081919466a0d5018e4974 for eval_6902fa64082c8191b457859e5cab87b1\n"
     ]
    }
   ],
   "source": [
    "# Now we create a final Eval using our post-training dataset that doesn't overlap with the\n",
    "# original distillation and training dataset. This lets us judge our new model based on\n",
    "# data it hasn't seen before. We'll also through in one of our better performing base\n",
    "# models as a control.\n",
    "POST_EVAL_MODELS = [\n",
    "    DEPLOYMENT_NAME,# distilled\n",
    "    \"gpt-4.1-mini\", # student\n",
    "    \"gpt-4o\",      # control\n",
    "]\n",
    "\n",
    "# SCHEMA, GRADER_MODEL, and INPUT are re-used from our previous Evaluation definition,\n",
    "# but let's restate the source and testing criteria again.\n",
    "DATA_SOURCE = {\n",
    "    \"item_schema\": SCHEMA, \n",
    "    \"include_sample_schema\": True, # Note this change! Needed for data gen.\n",
    "    \"type\": \"custom\"\n",
    "}\n",
    "TESTING_CRITERIA = {\n",
    "    \"name\": \"Zava Tone Grader\",\n",
    "    \"type\": \"score_model\",\n",
    "    \"model\": GRADER_MODEL,\n",
    "    \"input\": INPUT,\n",
    "    \"range\": [1.0, 10.0],\n",
    "    \"pass_threshold\": 4.0,\n",
    "}\n",
    "posttraining_eval = client.evals.create(\n",
    "    name=f\"zava-tone-posttrain-evaluation-{UNIQUE_ENOUGH_KEY}\",\n",
    "    data_source_config=DATA_SOURCE,\n",
    "    testing_criteria=[TESTING_CRITERIA]\n",
    ")\n",
    "print(f\"Created eval {posttraining_eval.id}\")\n",
    "\n",
    "# Now add our runs.\n",
    "postraining_runs = []\n",
    "for model in POST_EVAL_MODELS:\n",
    "    RUN_DATA_SOURCE = {\n",
    "        \"type\": \"completions\",\n",
    "        \"model\": model,\n",
    "        \"source\": { \"type\": \"file_id\", \"id\": posttraining_file.id },\n",
    "        \"input_messages\": {\n",
    "            \"type\": \"template\",\n",
    "            \"template\": [\n",
    "                { \n",
    "                    \"type\": \"message\", \n",
    "                    \"role\": \"system\", \n",
    "                    \"content\": { \"type\": \"input_text\", \"text\": SYSTEM_PROMPT },\n",
    "                },\n",
    "                { \n",
    "                    \"type\": \"message\", \n",
    "                    \"role\": \"user\", \n",
    "                    \"content\": { \"type\": \"input_text\", \"text\": \"{{item.question}}\" },\n",
    "                },\n",
    "            ],\n",
    "        },\n",
    "        \"sampling_params\": { \"max_completions_tokens\": 100 }, # XXX again, note the purposeful typo\n",
    "    }\n",
    "    run = client.evals.runs.create(\n",
    "        name=f\"{model}-{UNIQUE_ENOUGH_KEY}\", \n",
    "        eval_id=posttraining_eval.id,\n",
    "        data_source=RUN_DATA_SOURCE, \n",
    "    )\n",
    "    print(f\"🏃‍➡️ Created run {run.id} for {posttraining_eval.id}\")\n",
    "    postraining_runs.append(run)\n"
   ]
  },
  {
   "cell_type": "markdown",
   "id": "bf1a5347",
   "metadata": {},
   "source": [
    "### 5.5 Wait For Evaluations"
   ]
  },
  {
   "cell_type": "code",
   "execution_count": 32,
   "id": "bdf13c42",
   "metadata": {},
   "outputs": [
    {
     "name": "stdout",
     "output_type": "stream",
     "text": [
      "🏃‍➡️ Run zava-tone-distilled-o4-mini-zava-tone-ef9ba7d2-ef9ba7d2: completed\n",
      "🏃‍➡️ Run gpt-4.1-mini-ef9ba7d2: completed\n",
      "🏃‍➡️ Run gpt-4o-ef9ba7d2: completed\n",
      "⏱️ Elapsed time: 15 minutes 33 seconds\n",
      "🏁 All 3 runs completed!\n"
     ]
    }
   ],
   "source": [
    "# Again, we wait for our runs to finish.\n",
    "start_time = time.time()\n",
    "\n",
    "while any([r.status not in [\"completed\", \"failed\"] for r in postraining_runs]):\n",
    "    time.sleep(10)\n",
    "    clear_output(wait=True)\n",
    "\n",
    "    for i in range(len(postraining_runs)):\n",
    "        postraining_runs[i] = client.evals.runs.retrieve(eval_id=posttraining_eval.id, run_id=postraining_runs[i].id)\n",
    "        print(f\"🏃‍➡️ Run {postraining_runs[i].name}: {postraining_runs[i].status}\")\n",
    "    \n",
    "    now = time.time()\n",
    "    print(\"⏱️ Elapsed time: {} minutes {} seconds\".format(int((now - start_time) // 60), int((now - start_time) % 60)))\n",
    "\n",
    "print(f\"🏁 All {len(postraining_runs)} runs completed!\")"
   ]
  },
  {
   "cell_type": "markdown",
   "id": "7f20554b",
   "metadata": {},
   "source": [
    "---\n",
    "\n",
    "## 6. Interpret The Results"
   ]
  },
  {
   "cell_type": "code",
   "execution_count": null,
   "id": "feae6fd0",
   "metadata": {},
   "outputs": [],
   "source": [
    "# Let's visualize our post-training evaluation. Fingers crossed!\n",
    "from eval_utils import display_evaluation_summary\n",
    "display_evaluation_summary(client, [posttraining_eval.id], x_range=(1, 10))"
   ]
  },
  {
   "cell_type": "code",
   "execution_count": null,
   "id": "fa190861",
   "metadata": {},
   "outputs": [],
   "source": []
  },
  {
   "cell_type": "code",
   "execution_count": null,
   "id": "ca1ebaf2",
   "metadata": {},
   "outputs": [],
   "source": [
    "# And now let's put it all together.\n",
    "# Let's visualize our post-training evaluation. Fingers crossed!\n",
    "display_evaluation_summary(client, [baseline_eval.id, posttraining_eval.id], x_range=(1, 10))"
   ]
  },
  {
   "cell_type": "markdown",
   "id": "728a6cbb",
   "metadata": {},
   "source": [
    "---\n",
    "\n",
    "## 7. Teardown\n",
    "\n",
    "Don't forget to clean up - delete the resource group, purge resources!"
   ]
  },
  {
   "cell_type": "markdown",
   "id": "50e5aec1",
   "metadata": {},
   "source": [
    "---\n",
    "\n",
    "## 8. Summary \n",
    "\n",
    "In this notebook we demonstrated **distillation** using Azure OpenAI *Evaluations*\n",
    "and *Fine Tuning* features.\n",
    "\n",
    "We used an objective of *adjusting the tone* of a model to meet our needs, in this\n",
    "case making its responses sarcastic, while preserving accuracy in results, and\n",
    "*distilled* the native capabilities of a state-of-the-art reasoning model (`o3`)\n",
    "into a much smaller, non-reasoning model (`4.1-nano`) to let our agent or app\n",
    "use the smallest model possible while:\n",
    "\n",
    "- 🤑 minimizing per-token costs\n",
    "- 🏎️ improve performance (latency)\n",
    "\n",
    "We did all this:\n",
    "\n",
    "- without creating training data directly\n",
    "- without knowing the ideal student model\n",
    "- only by knowing how to define our Grader\n",
    "\n",
    "So to wrap it all up:\n",
    "\n",
    "1. We described the ideal state to our complex reasoning model in the form of\n",
    "   a few samples we feel are ideal.\n",
    "2. We described to the reasoning model (grader) how to judge those examples\n",
    "   to measure their quality.\n",
    "3. We let Evaluations and Fine Tuning do the rest!"
   ]
  },
  {
   "cell_type": "markdown",
   "id": "39763e83",
   "metadata": {},
   "source": [
    "<div style=\"display: flex; align-items: center; justify-content: left; padding: 5px; height: 40px; background: linear-gradient(90deg, #7873f5 0%, #ff6ec4 100%); border-radius: 8px; box-shadow: 0 2px 8px rgba(0,0,0,0.12); font-size: 1.5em; font-weight: bold; color: #fff;\">\n",
    "    Next: Be More Precise with RAFT\n",
    "</div>"
   ]
  }
 ],
 "metadata": {
  "kernelspec": {
   "display_name": "Python 3",
   "language": "python",
   "name": "python3"
  },
  "language_info": {
   "codemirror_mode": {
    "name": "ipython",
    "version": 3
   },
   "file_extension": ".py",
   "mimetype": "text/x-python",
   "name": "python",
   "nbconvert_exporter": "python",
   "pygments_lexer": "ipython3",
   "version": "3.12.11"
  }
 },
 "nbformat": 4,
 "nbformat_minor": 5
}
