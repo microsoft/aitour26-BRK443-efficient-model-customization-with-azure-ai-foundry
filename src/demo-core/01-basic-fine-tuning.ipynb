{
 "cells": [
  {
   "cell_type": "markdown",
   "id": "c277c688",
   "metadata": {},
   "source": [
    "<div style=\"background: linear-gradient(135deg, #034694 0%, #1E8449 50%, #D4AC0D 100%); color: white; padding: 20px; border-radius: 10px; box-shadow: 0 4px 8px rgba(0,0,0,0.2);\">\n",
    "    <h1 style=\"color: #FFF; text-shadow: 1px 1px 3px rgba(0,0,0,0.5);\">💬 | Step 2: Customize Tone With SFT </h1>\n",
    "        <p style=\"font-size: 16px; line-height: 1.6;\">\n",
    "            We used few shot examples to prompt-engineer a better tone. We used RAG to ground responses in our data. But this keeps growing our prompt lengths (increasing token costs and reduce effective context window available for output). How can we improve the tone and style of our bot with _more examples_ and shorter prompt length?\n",
    "        </p>\n",
    "</div>"
   ]
  },
  {
   "cell_type": "markdown",
   "id": "556a8518",
   "metadata": {},
   "source": [
    "<div style=\"display: flex; align-items: center; justify-content: left; padding: 5px; height: 40px; background: linear-gradient(90deg, #333333 0%, #777777 50%, #BBBBBB 100%); border-radius: 8px; box-shadow: 0 2px 8px rgba(0,0,0,0.12); font-size: 1.5em; font-weight: bold; color: #fff;\">\n",
    "    Step 1 : Understand Zava Scenarios\n",
    "</div>\n",
    "<br/>\n",
    "<div style=\"display: flex; align-items: center; justify-content: left; padding: 5px; height: 40px; background: linear-gradient(90deg, #7873f5 0%, #ff6ec4 100%); border-radius: 8px; box-shadow: 0 2px 8px rgba(0,0,0,0.12); font-size: 1.5em; font-weight: bold; color: #fff;\">\n",
    "    Step 3: Be More Cost-Effective With Distillation\n",
    "</div>\n",
    "<br/>\n",
    "<div style=\"display: flex; align-items: center; justify-content: left; padding: 5px; height: 40px; background: linear-gradient(90deg, #7873f5 0%, #ff6ec4 100%); border-radius: 8px; box-shadow: 0 2px 8px rgba(0,0,0,0.12); font-size: 1.5em; font-weight: bold; color: #fff;\">\n",
    "    Step 4: Be More Precise with RAFT\n",
    "</div>"
   ]
  },
  {
   "cell_type": "markdown",
   "id": "57e60caa",
   "metadata": {},
   "source": [
    "---\n",
    "### 1. Check Environment Variables"
   ]
  },
  {
   "cell_type": "code",
   "execution_count": 2,
   "id": "495e2ca5",
   "metadata": {},
   "outputs": [
    {
     "name": "stdout",
     "output_type": "stream",
     "text": [
      "Using Model: gpt-4o\n",
      "Using API Version: 2025-02-01-preview\n"
     ]
    }
   ],
   "source": [
    "import os\n",
    "\n",
    "openai_key = os.getenv(\"AZURE_OPENAI_API_KEY\")\n",
    "openai_endpoint = os.getenv(\"AZURE_OPENAI_ENDPOINT\")\n",
    "model_name = \"gpt-4o\"\n",
    "api_version = os.getenv(\"AZURE_OPENAI_API_VERSION\", \"2025-02-01-preview\")\n",
    "\n",
    "if not openai_key or not openai_endpoint:\n",
    "    print(\"Error: Missing AZURE_OPENAI_KEY or AZURE_OPENAI_ENDPOINT environment variable.\")\n",
    "\n",
    "print(\"Using Model:\", model_name)\n",
    "print(\"Using API Version:\", api_version)"
   ]
  },
  {
   "cell_type": "markdown",
   "id": "85ae8408",
   "metadata": {},
   "source": [
    "---\n",
    "### 2. Validate Training Dataset"
   ]
  },
  {
   "cell_type": "code",
   "execution_count": 4,
   "id": "d9d21d27",
   "metadata": {},
   "outputs": [],
   "source": [
    "# Identify Training and Validation datafiles\n",
    "\n",
    "training_file = \"data/demo/basic_sft_training.jsonl\" \n",
    "validation_file = \"data/demo/basic_sft_validation.jsonl\""
   ]
  },
  {
   "cell_type": "code",
   "execution_count": 5,
   "id": "6f9fb115",
   "metadata": {},
   "outputs": [
    {
     "name": "stdout",
     "output_type": "stream",
     "text": [
      "Number of examples in training set: 40\n",
      "First example in training set:\n",
      "{'role': 'system', 'content': 'You are Cora, a polite, factual and helpful assistant for Zava, a DIY hardware store.'}\n",
      "{'role': 'user', 'content': 'Is water-based polyurethane better than oil-based?'}\n",
      "{'role': 'assistant', 'content': '🤔 Both have benefits! Water-based at $43 dries faster, oil-based at $34 gives amber tone. Which matters most?'}\n",
      "\n",
      "Number of examples in validation set: 10\n",
      "First example in validation set:\n",
      "{'role': 'system', 'content': 'You are Cora, a polite, factual and helpful assistant for Zava, a DIY hardware store.'}\n",
      "{'role': 'user', 'content': \"What's good for painting wrought iron?\"}\n",
      "{'role': 'assistant', 'content': '🔧 Excellent combo! Metal Primer at $36 first, then Gloss Spray Paint at $8. Rust removal first?'}\n"
     ]
    }
   ],
   "source": [
    "# Run preliminary checks\n",
    "\n",
    "import json\n",
    "\n",
    "# Load the training set\n",
    "with open(training_file, 'r', encoding='utf-8') as f:\n",
    "    training_dataset = [json.loads(line) for line in f]\n",
    "\n",
    "# Training dataset stats\n",
    "print(\"Number of examples in training set:\", len(training_dataset))\n",
    "print(\"First example in training set:\")\n",
    "for message in training_dataset[0][\"messages\"]:\n",
    "    print(message)\n",
    "\n",
    "# Load the validation set\n",
    "with open(validation_file, 'r', encoding='utf-8') as f:\n",
    "    validation_dataset = [json.loads(line) for line in f]\n",
    "\n",
    "# Validation dataset stats\n",
    "print(\"\\nNumber of examples in validation set:\", len(validation_dataset))\n",
    "print(\"First example in validation set:\")\n",
    "for message in validation_dataset[0][\"messages\"]:\n",
    "    print(message)"
   ]
  },
  {
   "cell_type": "markdown",
   "id": "345304de",
   "metadata": {},
   "source": [
    "---\n",
    "### 3. Assess Token Counts For Data"
   ]
  },
  {
   "cell_type": "code",
   "execution_count": 6,
   "id": "a4d106f2",
   "metadata": {},
   "outputs": [
    {
     "name": "stdout",
     "output_type": "stream",
     "text": [
      "Processing file: data/demo/basic_sft_training.jsonl\n",
      "\n",
      "#### Distribution of total tokens:\n",
      "min / max: 62, 78\n",
      "mean / median: 68.15, 68.0\n",
      "p5 / p95: 65.0, 71.1\n",
      "\n",
      "#### Distribution of assistant tokens:\n",
      "min / max: 19, 30\n",
      "mean / median: 23.525, 23.0\n",
      "p5 / p95: 20.9, 26.1\n",
      "**************************************************\n",
      "Processing file: data/demo/basic_sft_validation.jsonl\n",
      "\n",
      "#### Distribution of total tokens:\n",
      "min / max: 63, 76\n",
      "mean / median: 68.3, 67.5\n",
      "p5 / p95: 65.7, 70.6\n",
      "\n",
      "#### Distribution of assistant tokens:\n",
      "min / max: 20, 28\n",
      "mean / median: 23.3, 23.0\n",
      "p5 / p95: 21.8, 25.299999999999997\n",
      "**************************************************\n"
     ]
    }
   ],
   "source": [
    "# Validate token counts\n",
    "\n",
    "import json\n",
    "import tiktoken\n",
    "import numpy as np\n",
    "\n",
    "encoding = tiktoken.get_encoding(\"o200k_base\") # default encoding for gpt-4o models. This requires the latest version of tiktoken to be installed.\n",
    "\n",
    "def num_tokens_from_messages(messages, tokens_per_message=3, tokens_per_name=1):\n",
    "    num_tokens = 0\n",
    "    for message in messages:\n",
    "        num_tokens += tokens_per_message\n",
    "        for key, value in message.items():\n",
    "            num_tokens += len(encoding.encode(value))\n",
    "            if key == \"name\":\n",
    "                num_tokens += tokens_per_name\n",
    "    num_tokens += 3\n",
    "    return num_tokens\n",
    "\n",
    "def num_assistant_tokens_from_messages(messages):\n",
    "    num_tokens = 0\n",
    "    for message in messages:\n",
    "        if message[\"role\"] == \"assistant\":\n",
    "            num_tokens += len(encoding.encode(message[\"content\"]))\n",
    "    return num_tokens\n",
    "\n",
    "def print_distribution(values, name):\n",
    "    print(f\"\\n#### Distribution of {name}:\")\n",
    "    print(f\"min / max: {min(values)}, {max(values)}\")\n",
    "    print(f\"mean / median: {np.mean(values)}, {np.median(values)}\")\n",
    "    print(f\"p5 / p95: {np.quantile(values, 0.1)}, {np.quantile(values, 0.9)}\")\n",
    "\n",
    "files = [training_file, validation_file]\n",
    "\n",
    "for file in files:\n",
    "    print(f\"Processing file: {file}\")\n",
    "    with open(file, 'r', encoding='utf-8') as f:\n",
    "        dataset = [json.loads(line) for line in f]\n",
    "\n",
    "    total_tokens = []\n",
    "    assistant_tokens = []\n",
    "\n",
    "    for ex in dataset:\n",
    "        messages = ex.get(\"messages\", {})\n",
    "        total_tokens.append(num_tokens_from_messages(messages))\n",
    "        assistant_tokens.append(num_assistant_tokens_from_messages(messages))\n",
    "\n",
    "    print_distribution(total_tokens, \"total tokens\")\n",
    "    print_distribution(assistant_tokens, \"assistant tokens\")\n",
    "    print('*' * 50)"
   ]
  },
  {
   "cell_type": "markdown",
   "id": "b023e173",
   "metadata": {},
   "source": [
    "---\n",
    "### 4. Upload Fine-Tuning Data To Cloud"
   ]
  },
  {
   "cell_type": "code",
   "execution_count": 2,
   "id": "9c9d2747",
   "metadata": {},
   "outputs": [],
   "source": [
    "# Create Azure OpenAI Client\n",
    "\n",
    "import os\n",
    "from openai import AzureOpenAI\n",
    "\n",
    "client = AzureOpenAI(\n",
    "  azure_endpoint = os.getenv(\"AZURE_OPENAI_ENDPOINT\"),\n",
    "  api_key = os.getenv(\"AZURE_OPENAI_API_KEY\"),\n",
    "  api_version = os.getenv(\"AZURE_OPENAI_API_VERSION\")\n",
    ")"
   ]
  },
  {
   "cell_type": "code",
   "execution_count": 8,
   "id": "d11fc1ed",
   "metadata": {},
   "outputs": [
    {
     "name": "stdout",
     "output_type": "stream",
     "text": [
      "Training file ID: file-1fb9bfb5c80a41809148b3caf910b015\n",
      "Validation file ID: file-87241433314e46958fc51f943f51b057\n"
     ]
    }
   ],
   "source": [
    "# Upload the training and validation dataset files to Azure OpenAI with the SDK.\n",
    "# Note: You can visit the Azure AI Foundry Portal - and look under your Azure AI Project's 'Data Files' tab to see the uploaded files.\n",
    "\n",
    "training_response = client.files.create(\n",
    "    file = open(training_file, \"rb\"), purpose=\"fine-tune\"\n",
    ")\n",
    "training_file_id = training_response.id\n",
    "\n",
    "validation_response = client.files.create(\n",
    "    file = open(validation_file, \"rb\"), purpose=\"fine-tune\"\n",
    ")\n",
    "validation_file_id = validation_response.id\n",
    "\n",
    "print(\"Training file ID:\", training_file_id)\n",
    "print(\"Validation file ID:\", validation_file_id)"
   ]
  },
  {
   "cell_type": "markdown",
   "id": "59bee32c",
   "metadata": {},
   "source": [
    "---\n",
    "### 5. Submit The Fine-Tuning Job"
   ]
  },
  {
   "cell_type": "code",
   "execution_count": 10,
   "id": "86ddf91d",
   "metadata": {},
   "outputs": [
    {
     "name": "stdout",
     "output_type": "stream",
     "text": [
      "Job ID: ftjob-3f80832513244edebfc25f383abfcb6b\n",
      "Status: pending\n",
      "{\n",
      "  \"id\": \"ftjob-3f80832513244edebfc25f383abfcb6b\",\n",
      "  \"created_at\": 1761796995,\n",
      "  \"error\": null,\n",
      "  \"fine_tuned_model\": null,\n",
      "  \"finished_at\": null,\n",
      "  \"hyperparameters\": {\n",
      "    \"batch_size\": -1,\n",
      "    \"learning_rate_multiplier\": 1.0,\n",
      "    \"n_epochs\": -1\n",
      "  },\n",
      "  \"model\": \"gpt-4o-2024-08-06\",\n",
      "  \"object\": \"fine_tuning.job\",\n",
      "  \"organization_id\": null,\n",
      "  \"result_files\": null,\n",
      "  \"seed\": 105,\n",
      "  \"status\": \"pending\",\n",
      "  \"trained_tokens\": null,\n",
      "  \"training_file\": \"file-1fb9bfb5c80a41809148b3caf910b015\",\n",
      "  \"validation_file\": \"file-87241433314e46958fc51f943f51b057\",\n",
      "  \"estimated_finish\": 1761797896,\n",
      "  \"integrations\": null,\n",
      "  \"metadata\": null,\n",
      "  \"method\": null\n",
      "}\n"
     ]
    }
   ],
   "source": [
    "# Submit fine-tuning training job\n",
    "# Note that the model you specify here must be one that can be fine-tuned.\n",
    "# See: https://learn.microsoft.com/en-us/azure/ai-services/openai/how-to/fine-tuning\n",
    "response = client.fine_tuning.jobs.create(\n",
    "    training_file=training_file_id,\n",
    "    validation_file=validation_file_id,\n",
    "    model=\"gpt-4o-2024-08-06\", # Enter base model name. Note that in Azure OpenAI the model name contains dashes and cannot contain dot/period characters.\n",
    "    seed = 105  # seed parameter controls reproducibility of the fine-tuning job. If no seed is specified one will be generated automatically.\n",
    ")\n",
    "\n",
    "job_id = response.id\n",
    "\n",
    "# You can use the job ID to monitor the status of the fine-tuning job.\n",
    "# The fine-tuning job will take some time to start and complete.\n",
    "print(\"Job ID:\", response.id)\n",
    "print(\"Status:\", response.status)\n",
    "print(response.model_dump_json(indent=2))"
   ]
  },
  {
   "cell_type": "markdown",
   "id": "f468e4f3",
   "metadata": {},
   "source": [
    "---\n",
    "\n",
    "### 6. Track Fine-Tuning Job Status"
   ]
  },
  {
   "cell_type": "code",
   "execution_count": null,
   "id": "f024bb0f",
   "metadata": {},
   "outputs": [
    {
     "name": "stdout",
     "output_type": "stream",
     "text": [
      "{\n",
      "  \"id\": \"ftjob-3f80832513244edebfc25f383abfcb6b\",\n",
      "  \"created_at\": 1761796995,\n",
      "  \"error\": null,\n",
      "  \"fine_tuned_model\": null,\n",
      "  \"finished_at\": null,\n",
      "  \"hyperparameters\": {\n",
      "    \"batch_size\": -1,\n",
      "    \"learning_rate_multiplier\": 1.0,\n",
      "    \"n_epochs\": -1\n",
      "  },\n",
      "  \"model\": \"gpt-4o-2024-08-06\",\n",
      "  \"object\": \"fine_tuning.job\",\n",
      "  \"organization_id\": null,\n",
      "  \"result_files\": null,\n",
      "  \"seed\": 105,\n",
      "  \"status\": \"running\",\n",
      "  \"trained_tokens\": null,\n",
      "  \"training_file\": \"file-1fb9bfb5c80a41809148b3caf910b015\",\n",
      "  \"validation_file\": \"file-87241433314e46958fc51f943f51b057\",\n",
      "  \"estimated_finish\": 1761797896,\n",
      "  \"integrations\": null,\n",
      "  \"metadata\": null,\n",
      "  \"method\": null\n",
      "}\n",
      "Elapsed time: 133 minutes 21 seconds\n",
      "Status: running\n"
     ]
    }
   ],
   "source": [
    "# Track training status\n",
    "\n",
    "from IPython.display import clear_output\n",
    "import time\n",
    "\n",
    "start_time = time.time()\n",
    "\n",
    "# Get the status of our fine-tuning job.\n",
    "response = client.fine_tuning.jobs.retrieve(job_id)\n",
    "\n",
    "status = response.status\n",
    "\n",
    "# If the job isn't done yet, poll it every 10 seconds.\n",
    "while status not in [\"succeeded\", \"failed\"]:\n",
    "    time.sleep(10)\n",
    "\n",
    "    response = client.fine_tuning.jobs.retrieve(job_id)\n",
    "    print(response.model_dump_json(indent=2))\n",
    "    print(\"Elapsed time: {} minutes {} seconds\".format(int((time.time() - start_time) // 60), int((time.time() - start_time) % 60)))\n",
    "    status = response.status\n",
    "    print(f'Status: {status}')\n",
    "    clear_output(wait=True)\n",
    "\n",
    "print(f'Fine-tuning job {job_id} finished with status: {status}')\n",
    "\n",
    "# List all fine-tuning jobs for this resource.\n",
    "print('Checking other fine-tune jobs for this resource.')\n",
    "response = client.fine_tuning.jobs.list()\n",
    "print(f'Found {len(response.data)} fine-tune jobs.')"
   ]
  },
  {
   "cell_type": "markdown",
   "id": "81343ca5",
   "metadata": {},
   "source": [
    "---\n",
    "\n",
    "### 7. List Fine-Tuning Events"
   ]
  },
  {
   "cell_type": "code",
   "execution_count": 4,
   "id": "ebe8fa88",
   "metadata": {},
   "outputs": [
    {
     "name": "stdout",
     "output_type": "stream",
     "text": [
      "{\n",
      "  \"data\": [\n",
      "    {\n",
      "      \"id\": \"ftevent-93dad8ff3d294f2497fe9e843853b9b3\",\n",
      "      \"created_at\": 1761821966,\n",
      "      \"level\": \"info\",\n",
      "      \"message\": \"Training tokens billed: 8000\",\n",
      "      \"object\": \"fine_tuning.job.event\",\n",
      "      \"data\": null,\n",
      "      \"type\": \"message\"\n",
      "    },\n",
      "    {\n",
      "      \"id\": \"ftevent-aba3e138f7eb4696aacf5335a56d07c1\",\n",
      "      \"created_at\": 1761821966,\n",
      "      \"level\": \"info\",\n",
      "      \"message\": \"Model Evaluation Passed.\",\n",
      "      \"object\": \"fine_tuning.job.event\",\n",
      "      \"data\": null,\n",
      "      \"type\": \"message\"\n",
      "    },\n",
      "    {\n",
      "      \"id\": \"ftevent-77f6f44b30f34e98ab2eb72e6d51a478\",\n",
      "      \"created_at\": 1761821966,\n",
      "      \"level\": \"info\",\n",
      "      \"message\": \"Completed results file: file-3f7527f1de5d4bb2a9a0c7e5928fb462\",\n",
      "      \"object\": \"fine_tuning.job.event\",\n",
      "      \"data\": null,\n",
      "      \"type\": \"message\"\n",
      "    },\n",
      "    {\n",
      "      \"id\": \"ftevent-1bcb85d3e5224a9baea0c6b162fc739e\",\n",
      "      \"created_at\": 1761821936,\n",
      "      \"level\": \"info\",\n",
      "      \"message\": \"Job succeeded.\",\n",
      "      \"object\": \"fine_tuning.job.event\",\n",
      "      \"data\": null,\n",
      "      \"type\": \"message\"\n",
      "    },\n",
      "    {\n",
      "      \"id\": \"ftevent-008de179f464ed7008de179f464ed700\",\n",
      "      \"created_at\": 1761820198,\n",
      "      \"level\": \"info\",\n",
      "      \"message\": \"Step 120: training loss=1.3354382514953613\",\n",
      "      \"object\": \"fine_tuning.job.event\",\n",
      "      \"data\": {\n",
      "        \"step\": 120,\n",
      "        \"train_loss\": 1.3354382514953613,\n",
      "        \"train_mean_token_accuracy\": 0.6666666865348816,\n",
      "        \"valid_loss\": 1.287997283935547,\n",
      "        \"valid_mean_token_accuracy\": 0.68,\n",
      "        \"full_valid_loss\": 1.3638394698795122,\n",
      "        \"full_valid_mean_token_accuracy\": 0.6521739130434783\n",
      "      },\n",
      "      \"type\": \"metrics\"\n",
      "    },\n",
      "    {\n",
      "      \"id\": \"ftevent-008de179f4058f6008de179f4058f600\",\n",
      "      \"created_at\": 1761820188,\n",
      "      \"level\": \"info\",\n",
      "      \"message\": \"Step 110: training loss=1.4506417512893677\",\n",
      "      \"object\": \"fine_tuning.job.event\",\n",
      "      \"data\": {\n",
      "        \"step\": 110,\n",
      "        \"train_loss\": 1.4506417512893677,\n",
      "        \"train_mean_token_accuracy\": 0.6086956262588501,\n",
      "        \"valid_loss\": 2.5115597064678488,\n",
      "        \"valid_mean_token_accuracy\": 0.5\n",
      "      },\n",
      "      \"type\": \"metrics\"\n",
      "    },\n",
      "    {\n",
      "      \"id\": \"ftevent-008de179f3a6315008de179f3a631500\",\n",
      "      \"created_at\": 1761820178,\n",
      "      \"level\": \"info\",\n",
      "      \"message\": \"Step 100: training loss=1.3603805303573608\",\n",
      "      \"object\": \"fine_tuning.job.event\",\n",
      "      \"data\": {\n",
      "        \"step\": 100,\n",
      "        \"train_loss\": 1.3603805303573608,\n",
      "        \"train_mean_token_accuracy\": 0.6521739363670349,\n",
      "        \"valid_loss\": 1.253194580078125,\n",
      "        \"valid_mean_token_accuracy\": 0.72\n",
      "      },\n",
      "      \"type\": \"metrics\"\n",
      "    },\n",
      "    {\n",
      "      \"id\": \"ftevent-008de179f346d34008de179f346d3400\",\n",
      "      \"created_at\": 1761820168,\n",
      "      \"level\": \"info\",\n",
      "      \"message\": \"Step 90: training loss=1.748082160949707\",\n",
      "      \"object\": \"fine_tuning.job.event\",\n",
      "      \"data\": {\n",
      "        \"step\": 90,\n",
      "        \"train_loss\": 1.748082160949707,\n",
      "        \"train_mean_token_accuracy\": 0.6086956262588501,\n",
      "        \"valid_loss\": 1.5408694744110107,\n",
      "        \"valid_mean_token_accuracy\": 0.5\n",
      "      },\n",
      "      \"type\": \"metrics\"\n",
      "    },\n",
      "    {\n",
      "      \"id\": \"ftevent-008de179f2e7753008de179f2e775300\",\n",
      "      \"created_at\": 1761820158,\n",
      "      \"level\": \"info\",\n",
      "      \"message\": \"Step 80: training loss=1.6386840343475342\",\n",
      "      \"object\": \"fine_tuning.job.event\",\n",
      "      \"data\": {\n",
      "        \"step\": 80,\n",
      "        \"train_loss\": 1.6386840343475342,\n",
      "        \"train_mean_token_accuracy\": 0.6800000071525574,\n",
      "        \"valid_loss\": 1.5833973354763455,\n",
      "        \"valid_mean_token_accuracy\": 0.6296296296296297,\n",
      "        \"full_valid_loss\": 1.4865922437826165,\n",
      "        \"full_valid_mean_token_accuracy\": 0.616600790513834\n",
      "      },\n",
      "      \"type\": \"metrics\"\n",
      "    },\n",
      "    {\n",
      "      \"id\": \"ftevent-008de179f288172008de179f28817200\",\n",
      "      \"created_at\": 1761820148,\n",
      "      \"level\": \"info\",\n",
      "      \"message\": \"Step 70: training loss=1.7136307954788208\",\n",
      "      \"object\": \"fine_tuning.job.event\",\n",
      "      \"data\": {\n",
      "        \"step\": 70,\n",
      "        \"train_loss\": 1.7136307954788208,\n",
      "        \"train_mean_token_accuracy\": 0.6000000238418579,\n",
      "        \"valid_loss\": 1.953906352703388,\n",
      "        \"valid_mean_token_accuracy\": 0.5384615384615384\n",
      "      },\n",
      "      \"type\": \"metrics\"\n",
      "    }\n",
      "  ],\n",
      "  \"has_more\": true,\n",
      "  \"object\": \"list\"\n",
      "}\n"
     ]
    }
   ],
   "source": [
    "response = client.fine_tuning.jobs.list_events(fine_tuning_job_id=job_id, limit=10)\n",
    "print(response.model_dump_json(indent=2))"
   ]
  },
  {
   "cell_type": "markdown",
   "id": "56873a47",
   "metadata": {},
   "source": [
    "---"
   ]
  },
  {
   "cell_type": "markdown",
   "id": "509896ba",
   "metadata": {},
   "source": [
    "### 8. List Fine-Tuning Checkpoints"
   ]
  },
  {
   "cell_type": "code",
   "execution_count": 5,
   "id": "7088ebaf",
   "metadata": {},
   "outputs": [
    {
     "name": "stdout",
     "output_type": "stream",
     "text": [
      "{\n",
      "  \"data\": [\n",
      "    {\n",
      "      \"id\": \"ftchkpt-f47d966c89db4939bacdd9d79493dda7\",\n",
      "      \"created_at\": 1761820729,\n",
      "      \"fine_tuned_model_checkpoint\": \"gpt-4o-2024-08-06.ft-3f80832513244edebfc25f383abfcb6b\",\n",
      "      \"fine_tuning_job_id\": \"ftjob-3f80832513244edebfc25f383abfcb6b\",\n",
      "      \"metrics\": {\n",
      "        \"full_valid_loss\": 1.3638394698795122,\n",
      "        \"full_valid_mean_token_accuracy\": 0.6521739130434783,\n",
      "        \"step\": 120.0,\n",
      "        \"train_loss\": 1.3354382514953613,\n",
      "        \"train_mean_token_accuracy\": 0.6666666865348816,\n",
      "        \"valid_loss\": 1.287997283935547,\n",
      "        \"valid_mean_token_accuracy\": 0.68\n",
      "      },\n",
      "      \"object\": \"fine_tuning.job.checkpoint\",\n",
      "      \"step_number\": 120\n",
      "    },\n",
      "    {\n",
      "      \"id\": \"ftchkpt-f708596efed6417dbe5f157983ccb424\",\n",
      "      \"created_at\": 1761820537,\n",
      "      \"fine_tuned_model_checkpoint\": \"gpt-4o-2024-08-06.ft-3f80832513244edebfc25f383abfcb6b:ckpt-step-80\",\n",
      "      \"fine_tuning_job_id\": \"ftjob-3f80832513244edebfc25f383abfcb6b\",\n",
      "      \"metrics\": {\n",
      "        \"full_valid_loss\": 1.4865922437826165,\n",
      "        \"full_valid_mean_token_accuracy\": 0.616600790513834,\n",
      "        \"step\": 80.0,\n",
      "        \"train_loss\": 1.6386840343475342,\n",
      "        \"train_mean_token_accuracy\": 0.6800000071525574,\n",
      "        \"valid_loss\": 1.5833973354763455,\n",
      "        \"valid_mean_token_accuracy\": 0.6296296296296297\n",
      "      },\n",
      "      \"object\": \"fine_tuning.job.checkpoint\",\n",
      "      \"step_number\": 80\n",
      "    },\n",
      "    {\n",
      "      \"id\": \"ftchkpt-a869a6c5110e43eea0094e68360498cd\",\n",
      "      \"created_at\": 1761820346,\n",
      "      \"fine_tuned_model_checkpoint\": \"gpt-4o-2024-08-06.ft-3f80832513244edebfc25f383abfcb6b:ckpt-step-40\",\n",
      "      \"fine_tuning_job_id\": \"ftjob-3f80832513244edebfc25f383abfcb6b\",\n",
      "      \"metrics\": {\n",
      "        \"full_valid_loss\": 2.202459719812446,\n",
      "        \"full_valid_mean_token_accuracy\": 0.49407114624505927,\n",
      "        \"step\": 40.0,\n",
      "        \"train_loss\": 2.528071403503418,\n",
      "        \"train_mean_token_accuracy\": 0.47999998927116394,\n",
      "        \"valid_loss\": 1.369146728515625,\n",
      "        \"valid_mean_token_accuracy\": 0.7\n",
      "      },\n",
      "      \"object\": \"fine_tuning.job.checkpoint\",\n",
      "      \"step_number\": 40\n",
      "    }\n",
      "  ],\n",
      "  \"has_more\": false,\n",
      "  \"object\": \"list\"\n",
      "}\n"
     ]
    }
   ],
   "source": [
    "response = client.fine_tuning.jobs.checkpoints.list(job_id)\n",
    "print(response.model_dump_json(indent=2))"
   ]
  },
  {
   "cell_type": "markdown",
   "id": "93b3e13f",
   "metadata": {},
   "source": [
    "---"
   ]
  },
  {
   "cell_type": "markdown",
   "id": "42313dcc",
   "metadata": {},
   "source": [
    "### 9. Retrieve Fine-Tuned Model Name"
   ]
  },
  {
   "cell_type": "code",
   "execution_count": 6,
   "id": "4a77c5b8",
   "metadata": {},
   "outputs": [
    {
     "name": "stdout",
     "output_type": "stream",
     "text": [
      "{\n",
      "  \"id\": \"ftjob-3f80832513244edebfc25f383abfcb6b\",\n",
      "  \"created_at\": 1761796995,\n",
      "  \"error\": null,\n",
      "  \"fine_tuned_model\": \"gpt-4o-2024-08-06.ft-3f80832513244edebfc25f383abfcb6b\",\n",
      "  \"finished_at\": 1761821966,\n",
      "  \"hyperparameters\": {\n",
      "    \"batch_size\": 1,\n",
      "    \"learning_rate_multiplier\": 1.0,\n",
      "    \"n_epochs\": 3\n",
      "  },\n",
      "  \"model\": \"gpt-4o-2024-08-06\",\n",
      "  \"object\": \"fine_tuning.job\",\n",
      "  \"organization_id\": null,\n",
      "  \"result_files\": [\n",
      "    \"file-3f7527f1de5d4bb2a9a0c7e5928fb462\"\n",
      "  ],\n",
      "  \"seed\": 105,\n",
      "  \"status\": \"succeeded\",\n",
      "  \"trained_tokens\": 10440,\n",
      "  \"training_file\": \"file-1fb9bfb5c80a41809148b3caf910b015\",\n",
      "  \"validation_file\": \"file-87241433314e46958fc51f943f51b057\",\n",
      "  \"estimated_finish\": 1761819462,\n",
      "  \"integrations\": null,\n",
      "  \"metadata\": null,\n",
      "  \"method\": null\n",
      "}\n"
     ]
    }
   ],
   "source": [
    "# Retrieve fine_tuned_model name\n",
    "\n",
    "response = client.fine_tuning.jobs.retrieve(job_id)\n",
    "\n",
    "print(response.model_dump_json(indent=2))\n",
    "fine_tuned_model = response.fine_tuned_model"
   ]
  },
  {
   "cell_type": "markdown",
   "id": "c39afff9",
   "metadata": {},
   "source": [
    "---\n",
    "\n",
    "### 10. Deploy Fine-Tuned Model For Testing\n",
    "\n",
    "For now - we deployed this manually from the Azure AI Foundry Portal - using the **developer tier** which allows us to test our fine-tuned model for the cost of just inferencing. Once we deploy it, we can try it out"
   ]
  },
  {
   "cell_type": "markdown",
   "id": "a85182ed",
   "metadata": {},
   "source": [
    "> Prompt 1: What kind of paint should I buy for my outdoor deck?\n",
    "\n",
    "```txt\n",
    "🪵 Deck protection options! Semi-Transparent Deck Stain at 38 enhances wood grain, or Deck & Fence Stain at 36 for UV protection?\n",
    "```"
   ]
  },
  {
   "cell_type": "markdown",
   "id": "892334a4",
   "metadata": {},
   "source": [
    "> Prompt 2: I'm painting over rust - what spray paint should I use?\n",
    "\n",
    "👍 Right choice! Rust Prevention Spray at $13 applies directly over rust with long-lasting protection. Primer recommendation?"
   ]
  },
  {
   "cell_type": "markdown",
   "id": "4a39c0bb",
   "metadata": {},
   "source": [
    "**Insights**\n",
    "\n",
    "In both the examples above we can note that the response now accurately follows our Zava guidelines for \"polite, factual and helpful\"\n",
    "- Every response starts with an emoji\n",
    "- The first sentence is always an acknowledgement of the user (\"polite\")\n",
    "- The next sentence is always an informative segment (\"factual\")\n",
    "- The final senteance is always an offer to follow up (\"helpful\")\n",
    "\n",
    "And note that we have the succinct responses we were looking for _without adding few-shot examples_, making the prompts shorter and thus saving both token costs and processing latency."
   ]
  },
  {
   "cell_type": "markdown",
   "id": "b08deb97",
   "metadata": {},
   "source": [
    "---\n",
    "### Teardown\n",
    "\n",
    "Once you are done with this lab, don't forget to tear down the infrastructure. The developer tier model will be torn down automatically (after 24 hours?) but it is better to proactively delete the resource group and release all model quota."
   ]
  },
  {
   "cell_type": "markdown",
   "id": "8ee386b6",
   "metadata": {},
   "source": [
    "\n",
    "<div style=\"display: flex; align-items: center; justify-content: left; padding: 5px; height: 40px; background: linear-gradient(90deg, #7873f5 0%, #ff6ec4 100%); border-radius: 8px; box-shadow: 0 2px 8px rgba(0,0,0,0.12); font-size: 1.5em; font-weight: bold; color: #fff;\">\n",
    "    Next: Be More Cost-Effective With Distillation\n",
    "</div>"
   ]
  },
  {
   "cell_type": "markdown",
   "id": "54567f40",
   "metadata": {},
   "source": []
  }
 ],
 "metadata": {
  "kernelspec": {
   "display_name": "Python 3",
   "language": "python",
   "name": "python3"
  },
  "language_info": {
   "codemirror_mode": {
    "name": "ipython",
    "version": 3
   },
   "file_extension": ".py",
   "mimetype": "text/x-python",
   "name": "python",
   "nbconvert_exporter": "python",
   "pygments_lexer": "ipython3",
   "version": "3.12.11"
  }
 },
 "nbformat": 4,
 "nbformat_minor": 5
}
